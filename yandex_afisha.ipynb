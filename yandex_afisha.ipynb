{
 "cells": [
  {
   "cell_type": "markdown",
   "metadata": {},
   "source": [
    "# Аналитика в Яндекс.Афише\n",
    "\n",
    "Задание: помочь маркетологам оптимизировать маркетинговые затраты.\n",
    "\n",
    "В распоряжении есть данные от Яндекс.Афиши с июня 2017 по конец мая 2018 года:\n",
    "- лог сервера с данными о посещениях сайта Яндекс.Афиши,\n",
    "- выгрузка всех заказов за этот период,\n",
    "- статистика рекламных расходов."
   ]
  },
  {
   "cell_type": "markdown",
   "metadata": {},
   "source": [
    "# Изучение данных и подготовка их к анализу\n",
    "\n",
    "\n",
    "Загрузим данные о визитах, заказах и расходах в переменные. "
   ]
  },
  {
   "cell_type": "code",
   "execution_count": 492,
   "metadata": {},
   "outputs": [],
   "source": [
    "import pandas as pd\n",
    "import numpy as np\n",
    "import matplotlib\n",
    "import matplotlib.pyplot as plt \n",
    "\n",
    "visits = pd.read_csv('/datasets/visits_log.csv')\n",
    "orders = pd.read_csv('/datasets/orders_log.csv')\n",
    "costs = pd.read_csv('/datasets/costs.csv')"
   ]
  },
  {
   "cell_type": "markdown",
   "metadata": {},
   "source": [
    "## VISITS"
   ]
  },
  {
   "cell_type": "markdown",
   "metadata": {},
   "source": [
    "Изучим таблицу `visits` (лог сервера с информацией о посещениях сайта)"
   ]
  },
  {
   "cell_type": "code",
   "execution_count": 493,
   "metadata": {},
   "outputs": [
    {
     "name": "stdout",
     "output_type": "stream",
     "text": [
      "<class 'pandas.core.frame.DataFrame'>\n",
      "RangeIndex: 359400 entries, 0 to 359399\n",
      "Data columns (total 5 columns):\n",
      "Device       359400 non-null object\n",
      "End Ts       359400 non-null object\n",
      "Source Id    359400 non-null int64\n",
      "Start Ts     359400 non-null object\n",
      "Uid          359400 non-null uint64\n",
      "dtypes: int64(1), object(3), uint64(1)\n",
      "memory usage: 13.7+ MB\n"
     ]
    }
   ],
   "source": [
    "visits.info()"
   ]
  },
  {
   "cell_type": "markdown",
   "metadata": {},
   "source": [
    "Переименуем названия слобцов:"
   ]
  },
  {
   "cell_type": "code",
   "execution_count": 494,
   "metadata": {},
   "outputs": [
    {
     "data": {
      "text/html": [
       "<div>\n",
       "<style scoped>\n",
       "    .dataframe tbody tr th:only-of-type {\n",
       "        vertical-align: middle;\n",
       "    }\n",
       "\n",
       "    .dataframe tbody tr th {\n",
       "        vertical-align: top;\n",
       "    }\n",
       "\n",
       "    .dataframe thead th {\n",
       "        text-align: right;\n",
       "    }\n",
       "</style>\n",
       "<table border=\"1\" class=\"dataframe\">\n",
       "  <thead>\n",
       "    <tr style=\"text-align: right;\">\n",
       "      <th></th>\n",
       "      <th>device</th>\n",
       "      <th>end_ts</th>\n",
       "      <th>source_id</th>\n",
       "      <th>start_ts</th>\n",
       "      <th>uid</th>\n",
       "    </tr>\n",
       "  </thead>\n",
       "  <tbody>\n",
       "    <tr>\n",
       "      <td>0</td>\n",
       "      <td>touch</td>\n",
       "      <td>2017-12-20 17:38:00</td>\n",
       "      <td>4</td>\n",
       "      <td>2017-12-20 17:20:00</td>\n",
       "      <td>16879256277535980062</td>\n",
       "    </tr>\n",
       "    <tr>\n",
       "      <td>1</td>\n",
       "      <td>desktop</td>\n",
       "      <td>2018-02-19 17:21:00</td>\n",
       "      <td>2</td>\n",
       "      <td>2018-02-19 16:53:00</td>\n",
       "      <td>104060357244891740</td>\n",
       "    </tr>\n",
       "    <tr>\n",
       "      <td>2</td>\n",
       "      <td>touch</td>\n",
       "      <td>2017-07-01 01:54:00</td>\n",
       "      <td>5</td>\n",
       "      <td>2017-07-01 01:54:00</td>\n",
       "      <td>7459035603376831527</td>\n",
       "    </tr>\n",
       "    <tr>\n",
       "      <td>3</td>\n",
       "      <td>desktop</td>\n",
       "      <td>2018-05-20 11:23:00</td>\n",
       "      <td>9</td>\n",
       "      <td>2018-05-20 10:59:00</td>\n",
       "      <td>16174680259334210214</td>\n",
       "    </tr>\n",
       "    <tr>\n",
       "      <td>4</td>\n",
       "      <td>desktop</td>\n",
       "      <td>2017-12-27 14:06:00</td>\n",
       "      <td>3</td>\n",
       "      <td>2017-12-27 14:06:00</td>\n",
       "      <td>9969694820036681168</td>\n",
       "    </tr>\n",
       "  </tbody>\n",
       "</table>\n",
       "</div>"
      ],
      "text/plain": [
       "    device               end_ts  source_id             start_ts  \\\n",
       "0    touch  2017-12-20 17:38:00          4  2017-12-20 17:20:00   \n",
       "1  desktop  2018-02-19 17:21:00          2  2018-02-19 16:53:00   \n",
       "2    touch  2017-07-01 01:54:00          5  2017-07-01 01:54:00   \n",
       "3  desktop  2018-05-20 11:23:00          9  2018-05-20 10:59:00   \n",
       "4  desktop  2017-12-27 14:06:00          3  2017-12-27 14:06:00   \n",
       "\n",
       "                    uid  \n",
       "0  16879256277535980062  \n",
       "1    104060357244891740  \n",
       "2   7459035603376831527  \n",
       "3  16174680259334210214  \n",
       "4   9969694820036681168  "
      ]
     },
     "execution_count": 494,
     "metadata": {},
     "output_type": "execute_result"
    }
   ],
   "source": [
    "visits.rename(columns={'Device': 'device', \n",
    "                       'End Ts': 'end_ts', \n",
    "                       'Source Id': 'source_id',  \n",
    "                       'Start Ts': 'start_ts',\n",
    "                       'Uid': 'uid',}, inplace=True)\n",
    "visits.head()"
   ]
  },
  {
   "cell_type": "markdown",
   "metadata": {},
   "source": [
    "Изменим тип данных в столбцах `end_ts` и `start_ts` на тип `datetime`"
   ]
  },
  {
   "cell_type": "code",
   "execution_count": 495,
   "metadata": {},
   "outputs": [],
   "source": [
    "visits['end_ts'] = pd.to_datetime(visits['end_ts'])\n",
    "visits['start_ts'] = pd.to_datetime(visits['start_ts'])\n",
    "#visits.info()"
   ]
  },
  {
   "cell_type": "code",
   "execution_count": 496,
   "metadata": {},
   "outputs": [
    {
     "name": "stdout",
     "output_type": "stream",
     "text": [
      "Логи в таблице visits с 2017-06-01 00:01:00 по 2018-05-31 23:59:00\n"
     ]
    }
   ],
   "source": [
    "print('Логи в таблице visits с {} по {}'.format(visits['start_ts'].min(), visits['start_ts'].max()))"
   ]
  },
  {
   "cell_type": "markdown",
   "metadata": {},
   "source": [
    "## ORDERS"
   ]
  },
  {
   "cell_type": "markdown",
   "metadata": {},
   "source": [
    "Изучим данные о заказах"
   ]
  },
  {
   "cell_type": "code",
   "execution_count": 497,
   "metadata": {},
   "outputs": [
    {
     "name": "stdout",
     "output_type": "stream",
     "text": [
      "<class 'pandas.core.frame.DataFrame'>\n",
      "RangeIndex: 50415 entries, 0 to 50414\n",
      "Data columns (total 3 columns):\n",
      "Buy Ts     50415 non-null object\n",
      "Revenue    50415 non-null float64\n",
      "Uid        50415 non-null uint64\n",
      "dtypes: float64(1), object(1), uint64(1)\n",
      "memory usage: 1.2+ MB\n"
     ]
    }
   ],
   "source": [
    "orders.info()"
   ]
  },
  {
   "cell_type": "markdown",
   "metadata": {},
   "source": [
    "Приведем названия столбцов к единому нижнему регистру:"
   ]
  },
  {
   "cell_type": "code",
   "execution_count": 498,
   "metadata": {},
   "outputs": [],
   "source": [
    "orders.columns = orders.columns.str.lower()\n",
    "orders.rename(columns={'buy ts': 'buy_ts'}, inplace=True)\n",
    "#print(orders.info())"
   ]
  },
  {
   "cell_type": "markdown",
   "metadata": {},
   "source": [
    "Изменим тип данных в столбце `buy_ts` на тип `datetime`"
   ]
  },
  {
   "cell_type": "code",
   "execution_count": 499,
   "metadata": {},
   "outputs": [
    {
     "name": "stdout",
     "output_type": "stream",
     "text": [
      "<class 'pandas.core.frame.DataFrame'>\n",
      "RangeIndex: 50415 entries, 0 to 50414\n",
      "Data columns (total 3 columns):\n",
      "buy_ts     50415 non-null datetime64[ns]\n",
      "revenue    50415 non-null float64\n",
      "uid        50415 non-null uint64\n",
      "dtypes: datetime64[ns](1), float64(1), uint64(1)\n",
      "memory usage: 1.2 MB\n",
      "None\n"
     ]
    }
   ],
   "source": [
    "orders['buy_ts'] = pd.to_datetime(orders['buy_ts'])\n",
    "print(orders.info())"
   ]
  },
  {
   "cell_type": "code",
   "execution_count": 500,
   "metadata": {},
   "outputs": [
    {
     "data": {
      "text/html": [
       "<div>\n",
       "<style scoped>\n",
       "    .dataframe tbody tr th:only-of-type {\n",
       "        vertical-align: middle;\n",
       "    }\n",
       "\n",
       "    .dataframe tbody tr th {\n",
       "        vertical-align: top;\n",
       "    }\n",
       "\n",
       "    .dataframe thead th {\n",
       "        text-align: right;\n",
       "    }\n",
       "</style>\n",
       "<table border=\"1\" class=\"dataframe\">\n",
       "  <thead>\n",
       "    <tr style=\"text-align: right;\">\n",
       "      <th></th>\n",
       "      <th>buy_ts</th>\n",
       "      <th>revenue</th>\n",
       "      <th>uid</th>\n",
       "    </tr>\n",
       "  </thead>\n",
       "  <tbody>\n",
       "    <tr>\n",
       "      <td>0</td>\n",
       "      <td>2017-06-01 00:10:00</td>\n",
       "      <td>17.00</td>\n",
       "      <td>10329302124590727494</td>\n",
       "    </tr>\n",
       "    <tr>\n",
       "      <td>1</td>\n",
       "      <td>2017-06-01 00:25:00</td>\n",
       "      <td>0.55</td>\n",
       "      <td>11627257723692907447</td>\n",
       "    </tr>\n",
       "    <tr>\n",
       "      <td>2</td>\n",
       "      <td>2017-06-01 00:27:00</td>\n",
       "      <td>0.37</td>\n",
       "      <td>17903680561304213844</td>\n",
       "    </tr>\n",
       "    <tr>\n",
       "      <td>3</td>\n",
       "      <td>2017-06-01 00:29:00</td>\n",
       "      <td>0.55</td>\n",
       "      <td>16109239769442553005</td>\n",
       "    </tr>\n",
       "    <tr>\n",
       "      <td>4</td>\n",
       "      <td>2017-06-01 07:58:00</td>\n",
       "      <td>0.37</td>\n",
       "      <td>14200605875248379450</td>\n",
       "    </tr>\n",
       "  </tbody>\n",
       "</table>\n",
       "</div>"
      ],
      "text/plain": [
       "               buy_ts  revenue                   uid\n",
       "0 2017-06-01 00:10:00    17.00  10329302124590727494\n",
       "1 2017-06-01 00:25:00     0.55  11627257723692907447\n",
       "2 2017-06-01 00:27:00     0.37  17903680561304213844\n",
       "3 2017-06-01 00:29:00     0.55  16109239769442553005\n",
       "4 2017-06-01 07:58:00     0.37  14200605875248379450"
      ]
     },
     "execution_count": 500,
     "metadata": {},
     "output_type": "execute_result"
    }
   ],
   "source": [
    "orders.head()"
   ]
  },
  {
   "cell_type": "markdown",
   "metadata": {},
   "source": [
    "## COSTS"
   ]
  },
  {
   "cell_type": "markdown",
   "metadata": {},
   "source": [
    "Изучим информацию о затратах на маркетинг."
   ]
  },
  {
   "cell_type": "code",
   "execution_count": 501,
   "metadata": {},
   "outputs": [
    {
     "name": "stdout",
     "output_type": "stream",
     "text": [
      "<class 'pandas.core.frame.DataFrame'>\n",
      "RangeIndex: 2542 entries, 0 to 2541\n",
      "Data columns (total 3 columns):\n",
      "source_id    2542 non-null int64\n",
      "dt           2542 non-null object\n",
      "costs        2542 non-null float64\n",
      "dtypes: float64(1), int64(1), object(1)\n",
      "memory usage: 59.7+ KB\n"
     ]
    }
   ],
   "source": [
    "costs.info()"
   ]
  },
  {
   "cell_type": "markdown",
   "metadata": {},
   "source": [
    "Изменим тип данных в столбце `dt` на тип `datetime`"
   ]
  },
  {
   "cell_type": "code",
   "execution_count": 502,
   "metadata": {},
   "outputs": [
    {
     "name": "stdout",
     "output_type": "stream",
     "text": [
      "<class 'pandas.core.frame.DataFrame'>\n",
      "RangeIndex: 2542 entries, 0 to 2541\n",
      "Data columns (total 3 columns):\n",
      "source_id    2542 non-null int64\n",
      "dt           2542 non-null datetime64[ns]\n",
      "costs        2542 non-null float64\n",
      "dtypes: datetime64[ns](1), float64(1), int64(1)\n",
      "memory usage: 59.7 KB\n"
     ]
    }
   ],
   "source": [
    "costs['dt'] = pd.to_datetime(costs['dt'])\n",
    "costs.info()"
   ]
  },
  {
   "cell_type": "code",
   "execution_count": 503,
   "metadata": {},
   "outputs": [
    {
     "data": {
      "text/html": [
       "<div>\n",
       "<style scoped>\n",
       "    .dataframe tbody tr th:only-of-type {\n",
       "        vertical-align: middle;\n",
       "    }\n",
       "\n",
       "    .dataframe tbody tr th {\n",
       "        vertical-align: top;\n",
       "    }\n",
       "\n",
       "    .dataframe thead th {\n",
       "        text-align: right;\n",
       "    }\n",
       "</style>\n",
       "<table border=\"1\" class=\"dataframe\">\n",
       "  <thead>\n",
       "    <tr style=\"text-align: right;\">\n",
       "      <th></th>\n",
       "      <th>source_id</th>\n",
       "      <th>dt</th>\n",
       "      <th>costs</th>\n",
       "    </tr>\n",
       "  </thead>\n",
       "  <tbody>\n",
       "    <tr>\n",
       "      <td>0</td>\n",
       "      <td>1</td>\n",
       "      <td>2017-06-01</td>\n",
       "      <td>75.20</td>\n",
       "    </tr>\n",
       "    <tr>\n",
       "      <td>1</td>\n",
       "      <td>1</td>\n",
       "      <td>2017-06-02</td>\n",
       "      <td>62.25</td>\n",
       "    </tr>\n",
       "    <tr>\n",
       "      <td>2</td>\n",
       "      <td>1</td>\n",
       "      <td>2017-06-03</td>\n",
       "      <td>36.53</td>\n",
       "    </tr>\n",
       "    <tr>\n",
       "      <td>3</td>\n",
       "      <td>1</td>\n",
       "      <td>2017-06-04</td>\n",
       "      <td>55.00</td>\n",
       "    </tr>\n",
       "    <tr>\n",
       "      <td>4</td>\n",
       "      <td>1</td>\n",
       "      <td>2017-06-05</td>\n",
       "      <td>57.08</td>\n",
       "    </tr>\n",
       "  </tbody>\n",
       "</table>\n",
       "</div>"
      ],
      "text/plain": [
       "   source_id         dt  costs\n",
       "0          1 2017-06-01  75.20\n",
       "1          1 2017-06-02  62.25\n",
       "2          1 2017-06-03  36.53\n",
       "3          1 2017-06-04  55.00\n",
       "4          1 2017-06-05  57.08"
      ]
     },
     "execution_count": 503,
     "metadata": {},
     "output_type": "execute_result"
    }
   ],
   "source": [
    "costs.head()"
   ]
  },
  {
   "cell_type": "markdown",
   "metadata": {},
   "source": [
    "# Метрики и отчеты\n",
    "Посчитаем метрики и построим отчеты по направлениям Продукт, Продажи и Маркетинг\n",
    "\n",
    "# <font color=green>Анализ продуктовых метрик</font>"
   ]
  },
  {
   "cell_type": "markdown",
   "metadata": {},
   "source": [
    "Посмотрим, сколько людей пользуются сервисом в день, неделю, месяц. Для начала выделим из дат день/неделю/месяц/год"
   ]
  },
  {
   "cell_type": "code",
   "execution_count": 504,
   "metadata": {},
   "outputs": [],
   "source": [
    "visits['start_ts_date'] = visits['start_ts'].dt.date\n",
    "visits['end_ts_date'] = visits['end_ts'].dt.date\n",
    "visits['start_ts_week'] =  visits['start_ts'].dt.week\n",
    "visits['start_ts_month'] = visits['start_ts'].dt.month\n",
    "visits['start_ts_year'] = visits['start_ts'].dt.year\n"
   ]
  },
  {
   "cell_type": "code",
   "execution_count": 505,
   "metadata": {},
   "outputs": [],
   "source": [
    "visits['end_ts_date'] = pd.to_datetime(visits['end_ts_date'])\n",
    "visits['start_ts_date'] = pd.to_datetime(visits['start_ts_date'])\n",
    "#visits.info()"
   ]
  },
  {
   "cell_type": "markdown",
   "metadata": {},
   "source": [
    "Посчитаем метрики пользовательской активности - `dau`, `mau`, `wau`:"
   ]
  },
  {
   "cell_type": "code",
   "execution_count": 506,
   "metadata": {},
   "outputs": [
    {
     "name": "stdout",
     "output_type": "stream",
     "text": [
      "Пользователей в день в среднем: 907\n",
      "Пользователей в неделю в среднем: 5716\n",
      "Пользователей в месяц в среднем: 23228\n"
     ]
    },
    {
     "data": {
      "image/png": "[encoded data removed]",
      "text/plain": [
       "<Figure size 1080x360 with 3 Axes>"
      ]
     },
     "metadata": {},
     "output_type": "display_data"
    }
   ],
   "source": [
    "dau = visits.groupby('start_ts_date').agg({'uid': 'nunique'})\n",
    "wau = visits.groupby(['start_ts_year', 'start_ts_week']).agg({'uid': 'nunique'})  \n",
    "mau = visits.groupby(['start_ts_year', 'start_ts_month']).agg({'uid': 'nunique'})\n",
    "\n",
    "print('Пользователей в день в среднем:', int(dau.mean()))\n",
    "print('Пользователей в неделю в среднем:', int(wau.mean()))\n",
    "print('Пользователей в месяц в среднем:', int(mau.mean()))\n",
    "\n",
    "import seaborn as sns\n",
    "import matplotlib.pyplot as plt\n",
    "\n",
    "sns.set(style=\"white\", palette=\"muted\", color_codes=True)\n",
    "\n",
    "# Set up the matplotlib figure\n",
    "f, axes = plt.subplots(1, 3, figsize=(15, 5))\n",
    "sns.despine(left=True)\n",
    "\n",
    "# Plots\n",
    "sns.distplot(dau, hist=False, color=\"#00a6e7\", kde_kws={\"shade\": True}, ax=axes[0]).set_title('DAU', fontsize=18)\n",
    "sns.distplot(wau, hist=False, color=\"#a7d82e\", kde_kws={\"shade\": True}, ax=axes[1]).set_title('WAU', fontsize=18)\n",
    "sns.distplot(mau, hist=False, color=\"#ff5200\", kde_kws={\"shade\": True}, ax=axes[2]).set_title('MAU', fontsize=18)\n",
    "\n",
    "plt.setp(axes, yticks=[])\n",
    "plt.tight_layout()\n",
    "plt.show()"
   ]
  },
  {
   "cell_type": "markdown",
   "metadata": {},
   "source": [
    "Посчитаем сколько в среднем сессий в день совершают пользователи:"
   ]
  },
  {
   "cell_type": "code",
   "execution_count": 507,
   "metadata": {},
   "outputs": [
    {
     "name": "stdout",
     "output_type": "stream",
     "text": [
      "Пользователи совершают в среднем 987 сессий в день\n"
     ]
    }
   ],
   "source": [
    "sessions_per_day = visits.groupby('start_ts_date')['start_ts_date'].count()\n",
    "print('Пользователи совершают в среднем {} сессий в день'.format(int(sessions_per_day.mean())))"
   ]
  },
  {
   "cell_type": "markdown",
   "metadata": {},
   "source": [
    "Посмотрим, сколько длится одна сессия. Посчитаем среднюю продолжительность сессии - `ASL`"
   ]
  },
  {
   "cell_type": "code",
   "execution_count": 508,
   "metadata": {},
   "outputs": [
    {
     "name": "stdout",
     "output_type": "stream",
     "text": [
      "Средняя прододжительность сессии(ASL): 10 минут\n"
     ]
    }
   ],
   "source": [
    "visits['session_duration_sec'] = (visits['end_ts'] - visits['start_ts']).dt.seconds\n",
    "print('Средняя прододжительность сессии(ASL):', int((visits['session_duration_sec'].mean()/60)), 'минут')"
   ]
  },
  {
   "cell_type": "markdown",
   "metadata": {},
   "source": [
    "Посмотрим на распределение:"
   ]
  },
  {
   "cell_type": "code",
   "execution_count": 509,
   "metadata": {},
   "outputs": [
    {
     "data": {
      "image/png": "[encoded data removed]",
      "text/plain": [
       "<Figure size 1080x360 with 1 Axes>"
      ]
     },
     "metadata": {},
     "output_type": "display_data"
    }
   ],
   "source": [
    "plt.figure(figsize=(15, 5))\n",
    "plt.title('Session Length', fontsize=18)\n",
    "visits['session_duration_sec'].hist(bins=50, range=(0, 3000), grid=False, color='#3fc5f0')\n",
    "sns.despine(left=True)\n",
    "plt.show()"
   ]
  },
  {
   "cell_type": "markdown",
   "metadata": {},
   "source": [
    "Рассчитаем моду (значение в выборке, которое встречается чаще всего):"
   ]
  },
  {
   "cell_type": "code",
   "execution_count": 510,
   "metadata": {},
   "outputs": [
    {
     "name": "stdout",
     "output_type": "stream",
     "text": [
      "0    60\n",
      "dtype: int64\n"
     ]
    }
   ],
   "source": [
    "print(visits['session_duration_sec'].mode())"
   ]
  },
  {
   "cell_type": "markdown",
   "metadata": {},
   "source": [
    "Чаще всего сессия длится 1 минуту, судя по распределению большая часть значений располагается в пределах 300 секунд (5 минут). "
   ]
  },
  {
   "cell_type": "markdown",
   "metadata": {},
   "source": [
    "## Как часто люди возвращаются?"
   ]
  },
  {
   "cell_type": "markdown",
   "metadata": {},
   "source": [
    "Чтобы ответить на этот вопрос необходимо посчитать коэффициент удержания `Retention Rate`"
   ]
  },
  {
   "cell_type": "markdown",
   "metadata": {},
   "source": [
    "Определим событие и период — на их основе сформируем когорту. Возьмём дату начала первой сессии.\n",
    "Эти данные запишем в `first_ts_dates`. "
   ]
  },
  {
   "cell_type": "code",
   "execution_count": 511,
   "metadata": {
    "scrolled": true
   },
   "outputs": [
    {
     "data": {
      "text/plain": [
       "uid\n",
       "11863502262781    2018-03-01 17:27:00\n",
       "49537067089222    2018-02-06 15:55:00\n",
       "297729379853735   2017-06-07 18:47:00\n",
       "313578113262317   2017-09-18 22:49:00\n",
       "325320750514679   2017-09-30 14:29:00\n",
       "Name: first_ts_datetime, dtype: datetime64[ns]"
      ]
     },
     "execution_count": 511,
     "metadata": {},
     "output_type": "execute_result"
    }
   ],
   "source": [
    "first_ts_dates = visits.groupby('uid')['start_ts'].min()\n",
    "first_ts_dates.name = 'first_ts_datetime'\n",
    "first_ts_dates.head()"
   ]
  },
  {
   "cell_type": "markdown",
   "metadata": {},
   "source": [
    "Объединим его с исходным датафреймом `visits`:"
   ]
  },
  {
   "cell_type": "code",
   "execution_count": 512,
   "metadata": {},
   "outputs": [],
   "source": [
    "visits = visits.join(first_ts_dates,on='uid', lsuffix='_left')"
   ]
  },
  {
   "cell_type": "markdown",
   "metadata": {},
   "source": [
    "Получим столбцы с первым месяцем в который произошло событие "
   ]
  },
  {
   "cell_type": "code",
   "execution_count": 513,
   "metadata": {},
   "outputs": [
    {
     "data": {
      "text/html": [
       "<div>\n",
       "<style scoped>\n",
       "    .dataframe tbody tr th:only-of-type {\n",
       "        vertical-align: middle;\n",
       "    }\n",
       "\n",
       "    .dataframe tbody tr th {\n",
       "        vertical-align: top;\n",
       "    }\n",
       "\n",
       "    .dataframe thead th {\n",
       "        text-align: right;\n",
       "    }\n",
       "</style>\n",
       "<table border=\"1\" class=\"dataframe\">\n",
       "  <thead>\n",
       "    <tr style=\"text-align: right;\">\n",
       "      <th></th>\n",
       "      <th>device</th>\n",
       "      <th>end_ts</th>\n",
       "      <th>source_id</th>\n",
       "      <th>start_ts</th>\n",
       "      <th>uid</th>\n",
       "      <th>start_ts_date</th>\n",
       "      <th>end_ts_date</th>\n",
       "      <th>start_ts_week</th>\n",
       "      <th>start_ts_month</th>\n",
       "      <th>start_ts_year</th>\n",
       "      <th>session_duration_sec</th>\n",
       "      <th>first_ts_datetime</th>\n",
       "      <th>ts_month</th>\n",
       "      <th>first_ts_month</th>\n",
       "    </tr>\n",
       "  </thead>\n",
       "  <tbody>\n",
       "    <tr>\n",
       "      <td>0</td>\n",
       "      <td>touch</td>\n",
       "      <td>2017-12-20 17:38:00</td>\n",
       "      <td>4</td>\n",
       "      <td>2017-12-20 17:20:00</td>\n",
       "      <td>16879256277535980062</td>\n",
       "      <td>2017-12-20</td>\n",
       "      <td>2017-12-20</td>\n",
       "      <td>51</td>\n",
       "      <td>12</td>\n",
       "      <td>2017</td>\n",
       "      <td>1080</td>\n",
       "      <td>2017-12-20 17:20:00</td>\n",
       "      <td>2017-12-01</td>\n",
       "      <td>2017-12-01</td>\n",
       "    </tr>\n",
       "    <tr>\n",
       "      <td>1</td>\n",
       "      <td>desktop</td>\n",
       "      <td>2018-02-19 17:21:00</td>\n",
       "      <td>2</td>\n",
       "      <td>2018-02-19 16:53:00</td>\n",
       "      <td>104060357244891740</td>\n",
       "      <td>2018-02-19</td>\n",
       "      <td>2018-02-19</td>\n",
       "      <td>8</td>\n",
       "      <td>2</td>\n",
       "      <td>2018</td>\n",
       "      <td>1680</td>\n",
       "      <td>2018-02-19 16:53:00</td>\n",
       "      <td>2018-02-01</td>\n",
       "      <td>2018-02-01</td>\n",
       "    </tr>\n",
       "    <tr>\n",
       "      <td>2</td>\n",
       "      <td>touch</td>\n",
       "      <td>2017-07-01 01:54:00</td>\n",
       "      <td>5</td>\n",
       "      <td>2017-07-01 01:54:00</td>\n",
       "      <td>7459035603376831527</td>\n",
       "      <td>2017-07-01</td>\n",
       "      <td>2017-07-01</td>\n",
       "      <td>26</td>\n",
       "      <td>7</td>\n",
       "      <td>2017</td>\n",
       "      <td>0</td>\n",
       "      <td>2017-07-01 01:54:00</td>\n",
       "      <td>2017-07-01</td>\n",
       "      <td>2017-07-01</td>\n",
       "    </tr>\n",
       "    <tr>\n",
       "      <td>3</td>\n",
       "      <td>desktop</td>\n",
       "      <td>2018-05-20 11:23:00</td>\n",
       "      <td>9</td>\n",
       "      <td>2018-05-20 10:59:00</td>\n",
       "      <td>16174680259334210214</td>\n",
       "      <td>2018-05-20</td>\n",
       "      <td>2018-05-20</td>\n",
       "      <td>20</td>\n",
       "      <td>5</td>\n",
       "      <td>2018</td>\n",
       "      <td>1440</td>\n",
       "      <td>2018-03-09 20:05:00</td>\n",
       "      <td>2018-05-01</td>\n",
       "      <td>2018-03-01</td>\n",
       "    </tr>\n",
       "    <tr>\n",
       "      <td>4</td>\n",
       "      <td>desktop</td>\n",
       "      <td>2017-12-27 14:06:00</td>\n",
       "      <td>3</td>\n",
       "      <td>2017-12-27 14:06:00</td>\n",
       "      <td>9969694820036681168</td>\n",
       "      <td>2017-12-27</td>\n",
       "      <td>2017-12-27</td>\n",
       "      <td>52</td>\n",
       "      <td>12</td>\n",
       "      <td>2017</td>\n",
       "      <td>0</td>\n",
       "      <td>2017-12-27 14:06:00</td>\n",
       "      <td>2017-12-01</td>\n",
       "      <td>2017-12-01</td>\n",
       "    </tr>\n",
       "  </tbody>\n",
       "</table>\n",
       "</div>"
      ],
      "text/plain": [
       "    device              end_ts  source_id            start_ts  \\\n",
       "0    touch 2017-12-20 17:38:00          4 2017-12-20 17:20:00   \n",
       "1  desktop 2018-02-19 17:21:00          2 2018-02-19 16:53:00   \n",
       "2    touch 2017-07-01 01:54:00          5 2017-07-01 01:54:00   \n",
       "3  desktop 2018-05-20 11:23:00          9 2018-05-20 10:59:00   \n",
       "4  desktop 2017-12-27 14:06:00          3 2017-12-27 14:06:00   \n",
       "\n",
       "                    uid start_ts_date end_ts_date  start_ts_week  \\\n",
       "0  16879256277535980062    2017-12-20  2017-12-20             51   \n",
       "1    104060357244891740    2018-02-19  2018-02-19              8   \n",
       "2   7459035603376831527    2017-07-01  2017-07-01             26   \n",
       "3  16174680259334210214    2018-05-20  2018-05-20             20   \n",
       "4   9969694820036681168    2017-12-27  2017-12-27             52   \n",
       "\n",
       "   start_ts_month  start_ts_year  session_duration_sec   first_ts_datetime  \\\n",
       "0              12           2017                  1080 2017-12-20 17:20:00   \n",
       "1               2           2018                  1680 2018-02-19 16:53:00   \n",
       "2               7           2017                     0 2017-07-01 01:54:00   \n",
       "3               5           2018                  1440 2018-03-09 20:05:00   \n",
       "4              12           2017                     0 2017-12-27 14:06:00   \n",
       "\n",
       "    ts_month first_ts_month  \n",
       "0 2017-12-01     2017-12-01  \n",
       "1 2018-02-01     2018-02-01  \n",
       "2 2017-07-01     2017-07-01  \n",
       "3 2018-05-01     2018-03-01  \n",
       "4 2017-12-01     2017-12-01  "
      ]
     },
     "metadata": {},
     "output_type": "display_data"
    }
   ],
   "source": [
    "visits['ts_month'] = visits['start_ts_date'].astype('datetime64[M]')\n",
    "visits['first_ts_month'] = visits['first_ts_datetime'].astype('datetime64[M]')\n",
    "display(visits.head())\n"
   ]
  },
  {
   "cell_type": "markdown",
   "metadata": {},
   "source": [
    "Теперь для каждой строки датафрейма можно рассчитать `lifetime` пользователя в рамках когорты. Обратимся к константе `np.timedelta64(1,'M')`:"
   ]
  },
  {
   "cell_type": "code",
   "execution_count": 514,
   "metadata": {},
   "outputs": [
    {
     "data": {
      "text/html": [
       "<div>\n",
       "<style scoped>\n",
       "    .dataframe tbody tr th:only-of-type {\n",
       "        vertical-align: middle;\n",
       "    }\n",
       "\n",
       "    .dataframe tbody tr th {\n",
       "        vertical-align: top;\n",
       "    }\n",
       "\n",
       "    .dataframe thead th {\n",
       "        text-align: right;\n",
       "    }\n",
       "</style>\n",
       "<table border=\"1\" class=\"dataframe\">\n",
       "  <thead>\n",
       "    <tr style=\"text-align: right;\">\n",
       "      <th></th>\n",
       "      <th>device</th>\n",
       "      <th>end_ts</th>\n",
       "      <th>source_id</th>\n",
       "      <th>start_ts</th>\n",
       "      <th>uid</th>\n",
       "      <th>start_ts_date</th>\n",
       "      <th>end_ts_date</th>\n",
       "      <th>start_ts_week</th>\n",
       "      <th>start_ts_month</th>\n",
       "      <th>start_ts_year</th>\n",
       "      <th>session_duration_sec</th>\n",
       "      <th>first_ts_datetime</th>\n",
       "      <th>ts_month</th>\n",
       "      <th>first_ts_month</th>\n",
       "      <th>cohort_lifetime</th>\n",
       "    </tr>\n",
       "  </thead>\n",
       "  <tbody>\n",
       "    <tr>\n",
       "      <td>0</td>\n",
       "      <td>touch</td>\n",
       "      <td>2017-12-20 17:38:00</td>\n",
       "      <td>4</td>\n",
       "      <td>2017-12-20 17:20:00</td>\n",
       "      <td>16879256277535980062</td>\n",
       "      <td>2017-12-20</td>\n",
       "      <td>2017-12-20</td>\n",
       "      <td>51</td>\n",
       "      <td>12</td>\n",
       "      <td>2017</td>\n",
       "      <td>1080</td>\n",
       "      <td>2017-12-20 17:20:00</td>\n",
       "      <td>2017-12-01</td>\n",
       "      <td>2017-12-01</td>\n",
       "      <td>0</td>\n",
       "    </tr>\n",
       "    <tr>\n",
       "      <td>1</td>\n",
       "      <td>desktop</td>\n",
       "      <td>2018-02-19 17:21:00</td>\n",
       "      <td>2</td>\n",
       "      <td>2018-02-19 16:53:00</td>\n",
       "      <td>104060357244891740</td>\n",
       "      <td>2018-02-19</td>\n",
       "      <td>2018-02-19</td>\n",
       "      <td>8</td>\n",
       "      <td>2</td>\n",
       "      <td>2018</td>\n",
       "      <td>1680</td>\n",
       "      <td>2018-02-19 16:53:00</td>\n",
       "      <td>2018-02-01</td>\n",
       "      <td>2018-02-01</td>\n",
       "      <td>0</td>\n",
       "    </tr>\n",
       "    <tr>\n",
       "      <td>2</td>\n",
       "      <td>touch</td>\n",
       "      <td>2017-07-01 01:54:00</td>\n",
       "      <td>5</td>\n",
       "      <td>2017-07-01 01:54:00</td>\n",
       "      <td>7459035603376831527</td>\n",
       "      <td>2017-07-01</td>\n",
       "      <td>2017-07-01</td>\n",
       "      <td>26</td>\n",
       "      <td>7</td>\n",
       "      <td>2017</td>\n",
       "      <td>0</td>\n",
       "      <td>2017-07-01 01:54:00</td>\n",
       "      <td>2017-07-01</td>\n",
       "      <td>2017-07-01</td>\n",
       "      <td>0</td>\n",
       "    </tr>\n",
       "    <tr>\n",
       "      <td>3</td>\n",
       "      <td>desktop</td>\n",
       "      <td>2018-05-20 11:23:00</td>\n",
       "      <td>9</td>\n",
       "      <td>2018-05-20 10:59:00</td>\n",
       "      <td>16174680259334210214</td>\n",
       "      <td>2018-05-20</td>\n",
       "      <td>2018-05-20</td>\n",
       "      <td>20</td>\n",
       "      <td>5</td>\n",
       "      <td>2018</td>\n",
       "      <td>1440</td>\n",
       "      <td>2018-03-09 20:05:00</td>\n",
       "      <td>2018-05-01</td>\n",
       "      <td>2018-03-01</td>\n",
       "      <td>2</td>\n",
       "    </tr>\n",
       "    <tr>\n",
       "      <td>4</td>\n",
       "      <td>desktop</td>\n",
       "      <td>2017-12-27 14:06:00</td>\n",
       "      <td>3</td>\n",
       "      <td>2017-12-27 14:06:00</td>\n",
       "      <td>9969694820036681168</td>\n",
       "      <td>2017-12-27</td>\n",
       "      <td>2017-12-27</td>\n",
       "      <td>52</td>\n",
       "      <td>12</td>\n",
       "      <td>2017</td>\n",
       "      <td>0</td>\n",
       "      <td>2017-12-27 14:06:00</td>\n",
       "      <td>2017-12-01</td>\n",
       "      <td>2017-12-01</td>\n",
       "      <td>0</td>\n",
       "    </tr>\n",
       "  </tbody>\n",
       "</table>\n",
       "</div>"
      ],
      "text/plain": [
       "    device              end_ts  source_id            start_ts  \\\n",
       "0    touch 2017-12-20 17:38:00          4 2017-12-20 17:20:00   \n",
       "1  desktop 2018-02-19 17:21:00          2 2018-02-19 16:53:00   \n",
       "2    touch 2017-07-01 01:54:00          5 2017-07-01 01:54:00   \n",
       "3  desktop 2018-05-20 11:23:00          9 2018-05-20 10:59:00   \n",
       "4  desktop 2017-12-27 14:06:00          3 2017-12-27 14:06:00   \n",
       "\n",
       "                    uid start_ts_date end_ts_date  start_ts_week  \\\n",
       "0  16879256277535980062    2017-12-20  2017-12-20             51   \n",
       "1    104060357244891740    2018-02-19  2018-02-19              8   \n",
       "2   7459035603376831527    2017-07-01  2017-07-01             26   \n",
       "3  16174680259334210214    2018-05-20  2018-05-20             20   \n",
       "4   9969694820036681168    2017-12-27  2017-12-27             52   \n",
       "\n",
       "   start_ts_month  start_ts_year  session_duration_sec   first_ts_datetime  \\\n",
       "0              12           2017                  1080 2017-12-20 17:20:00   \n",
       "1               2           2018                  1680 2018-02-19 16:53:00   \n",
       "2               7           2017                     0 2017-07-01 01:54:00   \n",
       "3               5           2018                  1440 2018-03-09 20:05:00   \n",
       "4              12           2017                     0 2017-12-27 14:06:00   \n",
       "\n",
       "    ts_month first_ts_month  cohort_lifetime  \n",
       "0 2017-12-01     2017-12-01                0  \n",
       "1 2018-02-01     2018-02-01                0  \n",
       "2 2017-07-01     2017-07-01                0  \n",
       "3 2018-05-01     2018-03-01                2  \n",
       "4 2017-12-01     2017-12-01                0  "
      ]
     },
     "execution_count": 514,
     "metadata": {},
     "output_type": "execute_result"
    }
   ],
   "source": [
    "visits['cohort_lifetime'] = visits['ts_month'] - visits['first_ts_month']\n",
    "visits['cohort_lifetime'] = visits['cohort_lifetime'] / np.timedelta64(1,'M')\n",
    "visits['cohort_lifetime'] = visits['cohort_lifetime'].round().astype(int)\n",
    "\n",
    "visits.head()"
   ]
  },
  {
   "cell_type": "markdown",
   "metadata": {},
   "source": [
    "Сгруппируем данные, посчитаем для каждой когорты количество пользователей на определённый «месяц жизни». Чтобы найти `Retention Rate`, нужно получить число пользователей, изначально бывших в когорте, и на него разделить число пользователей в каждый следующий месяц."
   ]
  },
  {
   "cell_type": "code",
   "execution_count": 515,
   "metadata": {},
   "outputs": [
    {
     "data": {
      "text/html": [
       "<div>\n",
       "<style scoped>\n",
       "    .dataframe tbody tr th:only-of-type {\n",
       "        vertical-align: middle;\n",
       "    }\n",
       "\n",
       "    .dataframe tbody tr th {\n",
       "        vertical-align: top;\n",
       "    }\n",
       "\n",
       "    .dataframe thead th {\n",
       "        text-align: right;\n",
       "    }\n",
       "</style>\n",
       "<table border=\"1\" class=\"dataframe\">\n",
       "  <thead>\n",
       "    <tr style=\"text-align: right;\">\n",
       "      <th>cohort_lifetime</th>\n",
       "      <th>0</th>\n",
       "      <th>1</th>\n",
       "      <th>2</th>\n",
       "      <th>3</th>\n",
       "      <th>4</th>\n",
       "      <th>5</th>\n",
       "      <th>6</th>\n",
       "      <th>7</th>\n",
       "      <th>8</th>\n",
       "      <th>9</th>\n",
       "      <th>10</th>\n",
       "      <th>11</th>\n",
       "    </tr>\n",
       "    <tr>\n",
       "      <th>first_ts_month</th>\n",
       "      <th></th>\n",
       "      <th></th>\n",
       "      <th></th>\n",
       "      <th></th>\n",
       "      <th></th>\n",
       "      <th></th>\n",
       "      <th></th>\n",
       "      <th></th>\n",
       "      <th></th>\n",
       "      <th></th>\n",
       "      <th></th>\n",
       "      <th></th>\n",
       "    </tr>\n",
       "  </thead>\n",
       "  <tbody>\n",
       "    <tr>\n",
       "      <td>2017-06-01</td>\n",
       "      <td>13259.0</td>\n",
       "      <td>1043</td>\n",
       "      <td>713</td>\n",
       "      <td>814</td>\n",
       "      <td>909</td>\n",
       "      <td>947</td>\n",
       "      <td>809</td>\n",
       "      <td>766</td>\n",
       "      <td>694</td>\n",
       "      <td>674</td>\n",
       "      <td>539</td>\n",
       "      <td>596</td>\n",
       "    </tr>\n",
       "    <tr>\n",
       "      <td>2017-07-01</td>\n",
       "      <td>13140.0</td>\n",
       "      <td>737</td>\n",
       "      <td>674</td>\n",
       "      <td>738</td>\n",
       "      <td>765</td>\n",
       "      <td>633</td>\n",
       "      <td>596</td>\n",
       "      <td>601</td>\n",
       "      <td>510</td>\n",
       "      <td>376</td>\n",
       "      <td>361</td>\n",
       "      <td></td>\n",
       "    </tr>\n",
       "    <tr>\n",
       "      <td>2017-08-01</td>\n",
       "      <td>10181.0</td>\n",
       "      <td>783</td>\n",
       "      <td>640</td>\n",
       "      <td>639</td>\n",
       "      <td>510</td>\n",
       "      <td>448</td>\n",
       "      <td>370</td>\n",
       "      <td>402</td>\n",
       "      <td>284</td>\n",
       "      <td>265</td>\n",
       "      <td></td>\n",
       "      <td></td>\n",
       "    </tr>\n",
       "    <tr>\n",
       "      <td>2017-09-01</td>\n",
       "      <td>16704.0</td>\n",
       "      <td>1428</td>\n",
       "      <td>1156</td>\n",
       "      <td>847</td>\n",
       "      <td>658</td>\n",
       "      <td>632</td>\n",
       "      <td>599</td>\n",
       "      <td>404</td>\n",
       "      <td>381</td>\n",
       "      <td></td>\n",
       "      <td></td>\n",
       "      <td></td>\n",
       "    </tr>\n",
       "    <tr>\n",
       "      <td>2017-10-01</td>\n",
       "      <td>25977.0</td>\n",
       "      <td>2042</td>\n",
       "      <td>1357</td>\n",
       "      <td>1012</td>\n",
       "      <td>890</td>\n",
       "      <td>837</td>\n",
       "      <td>555</td>\n",
       "      <td>529</td>\n",
       "      <td></td>\n",
       "      <td></td>\n",
       "      <td></td>\n",
       "      <td></td>\n",
       "    </tr>\n",
       "    <tr>\n",
       "      <td>2017-11-01</td>\n",
       "      <td>27248.0</td>\n",
       "      <td>2133</td>\n",
       "      <td>1202</td>\n",
       "      <td>1054</td>\n",
       "      <td>919</td>\n",
       "      <td>638</td>\n",
       "      <td>594</td>\n",
       "      <td></td>\n",
       "      <td></td>\n",
       "      <td></td>\n",
       "      <td></td>\n",
       "      <td></td>\n",
       "    </tr>\n",
       "    <tr>\n",
       "      <td>2017-12-01</td>\n",
       "      <td>25268.0</td>\n",
       "      <td>1410</td>\n",
       "      <td>960</td>\n",
       "      <td>786</td>\n",
       "      <td>512</td>\n",
       "      <td>481</td>\n",
       "      <td></td>\n",
       "      <td></td>\n",
       "      <td></td>\n",
       "      <td></td>\n",
       "      <td></td>\n",
       "      <td></td>\n",
       "    </tr>\n",
       "    <tr>\n",
       "      <td>2018-01-01</td>\n",
       "      <td>22624.0</td>\n",
       "      <td>1351</td>\n",
       "      <td>890</td>\n",
       "      <td>565</td>\n",
       "      <td>458</td>\n",
       "      <td></td>\n",
       "      <td></td>\n",
       "      <td></td>\n",
       "      <td></td>\n",
       "      <td></td>\n",
       "      <td></td>\n",
       "      <td></td>\n",
       "    </tr>\n",
       "    <tr>\n",
       "      <td>2018-02-01</td>\n",
       "      <td>22197.0</td>\n",
       "      <td>1267</td>\n",
       "      <td>565</td>\n",
       "      <td>446</td>\n",
       "      <td></td>\n",
       "      <td></td>\n",
       "      <td></td>\n",
       "      <td></td>\n",
       "      <td></td>\n",
       "      <td></td>\n",
       "      <td></td>\n",
       "      <td></td>\n",
       "    </tr>\n",
       "    <tr>\n",
       "      <td>2018-03-01</td>\n",
       "      <td>20589.0</td>\n",
       "      <td>861</td>\n",
       "      <td>557</td>\n",
       "      <td></td>\n",
       "      <td></td>\n",
       "      <td></td>\n",
       "      <td></td>\n",
       "      <td></td>\n",
       "      <td></td>\n",
       "      <td></td>\n",
       "      <td></td>\n",
       "      <td></td>\n",
       "    </tr>\n",
       "    <tr>\n",
       "      <td>2018-04-01</td>\n",
       "      <td>15709.0</td>\n",
       "      <td>760</td>\n",
       "      <td></td>\n",
       "      <td></td>\n",
       "      <td></td>\n",
       "      <td></td>\n",
       "      <td></td>\n",
       "      <td></td>\n",
       "      <td></td>\n",
       "      <td></td>\n",
       "      <td></td>\n",
       "      <td></td>\n",
       "    </tr>\n",
       "    <tr>\n",
       "      <td>2018-05-01</td>\n",
       "      <td>15273.0</td>\n",
       "      <td></td>\n",
       "      <td></td>\n",
       "      <td></td>\n",
       "      <td></td>\n",
       "      <td></td>\n",
       "      <td></td>\n",
       "      <td></td>\n",
       "      <td></td>\n",
       "      <td></td>\n",
       "      <td></td>\n",
       "      <td></td>\n",
       "    </tr>\n",
       "  </tbody>\n",
       "</table>\n",
       "</div>"
      ],
      "text/plain": [
       "cohort_lifetime       0     1     2     3    4    5    6    7    8    9    10  \\\n",
       "first_ts_month                                                                  \n",
       "2017-06-01       13259.0  1043   713   814  909  947  809  766  694  674  539   \n",
       "2017-07-01       13140.0   737   674   738  765  633  596  601  510  376  361   \n",
       "2017-08-01       10181.0   783   640   639  510  448  370  402  284  265        \n",
       "2017-09-01       16704.0  1428  1156   847  658  632  599  404  381             \n",
       "2017-10-01       25977.0  2042  1357  1012  890  837  555  529                  \n",
       "2017-11-01       27248.0  2133  1202  1054  919  638  594                       \n",
       "2017-12-01       25268.0  1410   960   786  512  481                            \n",
       "2018-01-01       22624.0  1351   890   565  458                                 \n",
       "2018-02-01       22197.0  1267   565   446                                      \n",
       "2018-03-01       20589.0   861   557                                            \n",
       "2018-04-01       15709.0   760                                                  \n",
       "2018-05-01       15273.0                                                        \n",
       "\n",
       "cohort_lifetime   11  \n",
       "first_ts_month        \n",
       "2017-06-01       596  \n",
       "2017-07-01            \n",
       "2017-08-01            \n",
       "2017-09-01            \n",
       "2017-10-01            \n",
       "2017-11-01            \n",
       "2017-12-01            \n",
       "2018-01-01            \n",
       "2018-02-01            \n",
       "2018-03-01            \n",
       "2018-04-01            \n",
       "2018-05-01            "
      ]
     },
     "metadata": {},
     "output_type": "display_data"
    }
   ],
   "source": [
    "# Группируем данные по когорте и lifetime. \n",
    "# Считаем количество активных пользователей на месяц\n",
    "\n",
    "cohorts_ts = visits.groupby(['first_ts_month','cohort_lifetime']).agg({'uid':'nunique'}).reset_index()\n",
    "#print(cohorts_ts)\n",
    "\n",
    "# Проверка количества визитов\n",
    "\n",
    "visits_pivot = visits.pivot_table(index='first_ts_month',columns='cohort_lifetime',values='uid',aggfunc='nunique')\n",
    "display(visits_pivot.fillna(''))\n",
    "\n",
    "# Найдём исходное количество пользователей в когорте, возбмем их число на нулевой месяц\n",
    "\n",
    "inital_users_count = cohorts_ts[cohorts_ts['cohort_lifetime'] == 0][['first_ts_month','uid']]\n",
    "inital_users_count = inital_users_count.rename(columns={'uid':'cohort_users'})\n",
    "cohorts_ts = cohorts_ts.merge(inital_users_count,on='first_ts_month')\n",
    "\n",
    "# Разделим число пользователей в каждый следующий месяц на исходное число пользователей, получим Retention Rate   \n",
    "\n",
    "cohorts_ts['retention'] = cohorts_ts['uid']/cohorts_ts['cohort_users']\n",
    "retention_pivot = cohorts_ts.pivot_table(index='first_ts_month',columns='cohort_lifetime',values='retention',aggfunc='sum')\n"
   ]
  },
  {
   "cell_type": "markdown",
   "metadata": {},
   "source": [
    "Визуализируем `Retention` с помощью тепловой карты"
   ]
  },
  {
   "cell_type": "code",
   "execution_count": 516,
   "metadata": {},
   "outputs": [
    {
     "data": {
      "image/png": "[encoded data removed]",
      "text/plain": [
       "<Figure size 1080x648 with 2 Axes>"
      ]
     },
     "metadata": {},
     "output_type": "display_data"
    }
   ],
   "source": [
    "import seaborn as sns\n",
    "from matplotlib import pyplot as plt\n",
    "\n",
    "sns.set(style='white')\n",
    "plt.figure(figsize=(15, 9))\n",
    "plt.title('Cohorts: User Retention', fontsize=20)\n",
    "sns.heatmap(retention_pivot, cmap=\"YlGnBu\", annot=True, fmt='.1%',  vmax=0.1, linecolor='gray', yticklabels=retention_pivot.index.strftime('%Y-%m'))\n",
    "plt.ylabel('first month', fontsize=14)\n",
    "plt.xlabel('cohort lifetime', fontsize=14)\n",
    "plt.show()"
   ]
  },
  {
   "cell_type": "markdown",
   "metadata": {},
   "source": [
    "Начиная с сентябрьской когорты `Retention Rate` постепенно убывает по когортам с течением времени. Если для когорты пользователей, пришедших в сентябре `Retention Rate` составляет 8,5%, то для пользователей, пришедших в марте уже в два раза меньше - 4,2%. В первой когорте пользователи удерживались лучше всего, на 12 месяце жизни когорты показатель 4,5 - это больше, чем на старте мартовской когорты. С каждой новой когортой поведение покупателей меняется."
   ]
  },
  {
   "cell_type": "markdown",
   "metadata": {},
   "source": [
    "# <font color=green>Анализ метрик продаж</font>\n",
    "\n",
    "- Когда люди начинают покупать?\n",
    "- Сколько раз покупают за период?\n",
    "- Какой средний чек?\n",
    "- Сколько денег приносят? (LTV)\n"
   ]
  },
  {
   "cell_type": "markdown",
   "metadata": {},
   "source": [
    "## Когда люди начинают покупать?"
   ]
  },
  {
   "cell_type": "markdown",
   "metadata": {},
   "source": [
    "Вариантов решения данной задачи может быть несколько. Например, можно посчитать сколько времени проходит с начала первой сессии до покупки."
   ]
  },
  {
   "cell_type": "markdown",
   "metadata": {},
   "source": [
    "Найдем дату и время первой сессии для каждого пользователя, запишем в `first_ts_dates`:"
   ]
  },
  {
   "cell_type": "code",
   "execution_count": 517,
   "metadata": {},
   "outputs": [
    {
     "data": {
      "text/plain": [
       "uid\n",
       "11863502262781    2018-03-01 17:27:00\n",
       "49537067089222    2018-02-06 15:55:00\n",
       "297729379853735   2017-06-07 18:47:00\n",
       "313578113262317   2017-09-18 22:49:00\n",
       "325320750514679   2017-09-30 14:29:00\n",
       "Name: first_ts_datetime, dtype: datetime64[ns]"
      ]
     },
     "execution_count": 517,
     "metadata": {},
     "output_type": "execute_result"
    }
   ],
   "source": [
    "first_ts_dates = visits.groupby('uid')['start_ts'].min()\n",
    "first_ts_dates.name = 'first_ts_datetime'\n",
    "first_ts_dates.head()"
   ]
  },
  {
   "cell_type": "code",
   "execution_count": 518,
   "metadata": {},
   "outputs": [
    {
     "data": {
      "text/html": [
       "<div>\n",
       "<style scoped>\n",
       "    .dataframe tbody tr th:only-of-type {\n",
       "        vertical-align: middle;\n",
       "    }\n",
       "\n",
       "    .dataframe tbody tr th {\n",
       "        vertical-align: top;\n",
       "    }\n",
       "\n",
       "    .dataframe thead th {\n",
       "        text-align: right;\n",
       "    }\n",
       "</style>\n",
       "<table border=\"1\" class=\"dataframe\">\n",
       "  <thead>\n",
       "    <tr style=\"text-align: right;\">\n",
       "      <th></th>\n",
       "      <th>buy_ts</th>\n",
       "      <th>revenue</th>\n",
       "      <th>uid</th>\n",
       "      <th>first_ts_datetime</th>\n",
       "    </tr>\n",
       "  </thead>\n",
       "  <tbody>\n",
       "    <tr>\n",
       "      <td>0</td>\n",
       "      <td>2017-06-01 00:10:00</td>\n",
       "      <td>17.00</td>\n",
       "      <td>10329302124590727494</td>\n",
       "      <td>2017-06-01 00:09:00</td>\n",
       "    </tr>\n",
       "    <tr>\n",
       "      <td>1</td>\n",
       "      <td>2017-06-01 00:25:00</td>\n",
       "      <td>0.55</td>\n",
       "      <td>11627257723692907447</td>\n",
       "      <td>2017-06-01 00:14:00</td>\n",
       "    </tr>\n",
       "    <tr>\n",
       "      <td>2</td>\n",
       "      <td>2017-06-01 00:27:00</td>\n",
       "      <td>0.37</td>\n",
       "      <td>17903680561304213844</td>\n",
       "      <td>2017-06-01 00:25:00</td>\n",
       "    </tr>\n",
       "    <tr>\n",
       "      <td>3</td>\n",
       "      <td>2017-06-01 00:29:00</td>\n",
       "      <td>0.55</td>\n",
       "      <td>16109239769442553005</td>\n",
       "      <td>2017-06-01 00:14:00</td>\n",
       "    </tr>\n",
       "    <tr>\n",
       "      <td>4</td>\n",
       "      <td>2017-06-01 07:58:00</td>\n",
       "      <td>0.37</td>\n",
       "      <td>14200605875248379450</td>\n",
       "      <td>2017-06-01 07:31:00</td>\n",
       "    </tr>\n",
       "  </tbody>\n",
       "</table>\n",
       "</div>"
      ],
      "text/plain": [
       "               buy_ts  revenue                   uid   first_ts_datetime\n",
       "0 2017-06-01 00:10:00    17.00  10329302124590727494 2017-06-01 00:09:00\n",
       "1 2017-06-01 00:25:00     0.55  11627257723692907447 2017-06-01 00:14:00\n",
       "2 2017-06-01 00:27:00     0.37  17903680561304213844 2017-06-01 00:25:00\n",
       "3 2017-06-01 00:29:00     0.55  16109239769442553005 2017-06-01 00:14:00\n",
       "4 2017-06-01 07:58:00     0.37  14200605875248379450 2017-06-01 07:31:00"
      ]
     },
     "execution_count": 518,
     "metadata": {},
     "output_type": "execute_result"
    }
   ],
   "source": [
    "# Добавим информацию о первых визитах пользователей в таблицу с заказами\n",
    "\n",
    "orders = orders.merge(first_ts_dates, on='uid')\n",
    "orders.head()"
   ]
  },
  {
   "cell_type": "markdown",
   "metadata": {},
   "source": [
    "Посчитаем сколько секунд прошло от момента первой сессии пользователя до покупки"
   ]
  },
  {
   "cell_type": "code",
   "execution_count": 519,
   "metadata": {},
   "outputs": [
    {
     "data": {
      "text/html": [
       "<div>\n",
       "<style scoped>\n",
       "    .dataframe tbody tr th:only-of-type {\n",
       "        vertical-align: middle;\n",
       "    }\n",
       "\n",
       "    .dataframe tbody tr th {\n",
       "        vertical-align: top;\n",
       "    }\n",
       "\n",
       "    .dataframe thead th {\n",
       "        text-align: right;\n",
       "    }\n",
       "</style>\n",
       "<table border=\"1\" class=\"dataframe\">\n",
       "  <thead>\n",
       "    <tr style=\"text-align: right;\">\n",
       "      <th></th>\n",
       "      <th>buy_ts</th>\n",
       "      <th>revenue</th>\n",
       "      <th>uid</th>\n",
       "      <th>first_ts_datetime</th>\n",
       "      <th>start_to_buy_sec</th>\n",
       "    </tr>\n",
       "  </thead>\n",
       "  <tbody>\n",
       "    <tr>\n",
       "      <td>0</td>\n",
       "      <td>2017-06-01 00:10:00</td>\n",
       "      <td>17.00</td>\n",
       "      <td>10329302124590727494</td>\n",
       "      <td>2017-06-01 00:09:00</td>\n",
       "      <td>60</td>\n",
       "    </tr>\n",
       "    <tr>\n",
       "      <td>1</td>\n",
       "      <td>2017-06-01 00:25:00</td>\n",
       "      <td>0.55</td>\n",
       "      <td>11627257723692907447</td>\n",
       "      <td>2017-06-01 00:14:00</td>\n",
       "      <td>660</td>\n",
       "    </tr>\n",
       "    <tr>\n",
       "      <td>2</td>\n",
       "      <td>2017-06-01 00:27:00</td>\n",
       "      <td>0.37</td>\n",
       "      <td>17903680561304213844</td>\n",
       "      <td>2017-06-01 00:25:00</td>\n",
       "      <td>120</td>\n",
       "    </tr>\n",
       "    <tr>\n",
       "      <td>3</td>\n",
       "      <td>2017-06-01 00:29:00</td>\n",
       "      <td>0.55</td>\n",
       "      <td>16109239769442553005</td>\n",
       "      <td>2017-06-01 00:14:00</td>\n",
       "      <td>900</td>\n",
       "    </tr>\n",
       "    <tr>\n",
       "      <td>4</td>\n",
       "      <td>2017-06-01 07:58:00</td>\n",
       "      <td>0.37</td>\n",
       "      <td>14200605875248379450</td>\n",
       "      <td>2017-06-01 07:31:00</td>\n",
       "      <td>1620</td>\n",
       "    </tr>\n",
       "  </tbody>\n",
       "</table>\n",
       "</div>"
      ],
      "text/plain": [
       "               buy_ts  revenue                   uid   first_ts_datetime  \\\n",
       "0 2017-06-01 00:10:00    17.00  10329302124590727494 2017-06-01 00:09:00   \n",
       "1 2017-06-01 00:25:00     0.55  11627257723692907447 2017-06-01 00:14:00   \n",
       "2 2017-06-01 00:27:00     0.37  17903680561304213844 2017-06-01 00:25:00   \n",
       "3 2017-06-01 00:29:00     0.55  16109239769442553005 2017-06-01 00:14:00   \n",
       "4 2017-06-01 07:58:00     0.37  14200605875248379450 2017-06-01 07:31:00   \n",
       "\n",
       "   start_to_buy_sec  \n",
       "0                60  \n",
       "1               660  \n",
       "2               120  \n",
       "3               900  \n",
       "4              1620  "
      ]
     },
     "execution_count": 519,
     "metadata": {},
     "output_type": "execute_result"
    }
   ],
   "source": [
    "orders['start_to_buy_sec'] = (orders['buy_ts'] - orders['first_ts_datetime']).dt.seconds\n",
    "orders.head()"
   ]
  },
  {
   "cell_type": "markdown",
   "metadata": {},
   "source": [
    "Посмотрим на распределение"
   ]
  },
  {
   "cell_type": "code",
   "execution_count": 520,
   "metadata": {},
   "outputs": [
    {
     "data": {
      "image/png": "[encoded data removed]",
      "text/plain": [
       "<Figure size 1080x360 with 1 Axes>"
      ]
     },
     "metadata": {},
     "output_type": "display_data"
    }
   ],
   "source": [
    "plt.figure(figsize=(15, 5))\n",
    "orders['start_to_buy_sec'].hist(bins=10, grid=False, color='#3fc5f0')\n",
    "orders['start_to_buy_sec'].describe()\n",
    "sns.despine(left=True)\n",
    "plt.show()"
   ]
  },
  {
   "cell_type": "markdown",
   "metadata": {},
   "source": [
    "Посмотрим более детально на распределение в диапазоне от 0 до 4000"
   ]
  },
  {
   "cell_type": "code",
   "execution_count": 521,
   "metadata": {},
   "outputs": [
    {
     "data": {
      "image/png": "[encoded data removed]",
      "text/plain": [
       "<Figure size 1080x360 with 1 Axes>"
      ]
     },
     "metadata": {},
     "output_type": "display_data"
    }
   ],
   "source": [
    "plt.figure(figsize=(15, 5))\n",
    "orders['start_to_buy_sec'].hist(bins=30, range=(0,4000), grid=False, color='#3fc5f0')\n",
    "sns.despine(left=True)\n",
    "plt.show()"
   ]
  },
  {
   "cell_type": "code",
   "execution_count": 522,
   "metadata": {},
   "outputs": [
    {
     "data": {
      "text/plain": [
       "60     2687\n",
       "0      2486\n",
       "120    2142\n",
       "180    1729\n",
       "240    1502\n",
       "300    1251\n",
       "360    1108\n",
       "420    1012\n",
       "480     838\n",
       "540     785\n",
       "Name: start_to_buy_sec, dtype: int64"
      ]
     },
     "execution_count": 522,
     "metadata": {},
     "output_type": "execute_result"
    }
   ],
   "source": [
    "orders['start_to_buy_sec'].value_counts().head(10)"
   ]
  },
  {
   "cell_type": "markdown",
   "metadata": {},
   "source": [
    "Большая часть значений распределяется в промежутке от 0 до 500 секунд, то есть большей части пользователей нужно менее 10 мин, чтобы совершить покупку. При этом есть доля пользователей, которым на принятие решения необходимы сутки."
   ]
  },
  {
   "cell_type": "markdown",
   "metadata": {},
   "source": [
    "## Количество покупок за период\n",
    "\n"
   ]
  },
  {
   "cell_type": "markdown",
   "metadata": {},
   "source": [
    "Можно посчитать сколько покупают за период по когортам, то есть посмотреть сколько покупок продолжают совершать пользователи с течением времени."
   ]
  },
  {
   "cell_type": "code",
   "execution_count": 523,
   "metadata": {},
   "outputs": [],
   "source": [
    "# Найдем дату первого заказа\n",
    "\n",
    "first_order_dates = orders.groupby('uid')['buy_ts'].min()\n",
    "first_order_dates.name = 'first_order_datetime'\n",
    "\n",
    "# Присоединим к таблице с заказами\n",
    "\n",
    "orders = orders.join(first_order_dates, on='uid', how='left', lsuffix='_left')\n",
    "\n",
    "# Выделим месяц заказа и первый месяц и добавим в таблицу\n",
    "\n",
    "orders['order_month'] = orders['buy_ts'].astype('datetime64[M]')\n",
    "orders['first_order_month'] = orders['first_order_datetime'].astype('datetime64[M]')\n",
    "#print(orders.head(10))\n",
    "\n",
    "#Посчитаем суммарную выручку по когортам\n",
    "cohort_stats = orders.groupby('first_order_month')['revenue'].sum()\n",
    "#print(cohort_stats)"
   ]
  },
  {
   "cell_type": "code",
   "execution_count": 524,
   "metadata": {},
   "outputs": [
    {
     "data": {
      "image/png": "[encoded data removed]",
      "text/plain": [
       "<Figure size 1080x648 with 2 Axes>"
      ]
     },
     "metadata": {},
     "output_type": "display_data"
    }
   ],
   "source": [
    "purchases = orders.pivot_table(index='first_order_month',\n",
    "    columns='order_month',\n",
    "    values='buy_ts',\n",
    "    aggfunc='nunique')\n",
    "\n",
    "sns.set(style='white')\n",
    "plt.figure(figsize=(15, 9))\n",
    "plt.title('Cohorts: Purchases', fontsize=20)\n",
    "sns.heatmap(purchases, cmap=\"YlGnBu\", annot=True, fmt='.5', vmax= 400, linecolor='gray', yticklabels=purchases.index.strftime('%Y-%m'), xticklabels=purchases.index.strftime('%Y-%m'))\n",
    "plt.xlabel('order month', fontsize=14)\n",
    "plt.ylabel('first order month', fontsize=14)\n",
    "\n",
    "plt.show()"
   ]
  },
  {
   "cell_type": "markdown",
   "metadata": {},
   "source": [
    "Очевидной зависимости изменения количества покупок со временем в пределах когорты не прослеживается."
   ]
  },
  {
   "cell_type": "markdown",
   "metadata": {},
   "source": [
    "Можно посчитать не по когортам, а в целом сколько покупок было совершено в каждый месяц:"
   ]
  },
  {
   "cell_type": "code",
   "execution_count": 525,
   "metadata": {},
   "outputs": [
    {
     "data": {
      "image/png": "[encoded data removed]",
      "text/plain": [
       "<Figure size 1080x360 with 1 Axes>"
      ]
     },
     "metadata": {},
     "output_type": "display_data"
    }
   ],
   "source": [
    "a=orders.groupby('order_month')['buy_ts'].count().reset_index()\n",
    "a['order_month']=a['order_month'].astype('str')\n",
    "\n",
    "plt.figure(figsize=(15, 5))\n",
    "plt.title('Purchases By Month', fontsize=20)\n",
    "sns.barplot(x='order_month', y='buy_ts', data=a, color=\"#5edfff\", label=\"line\")\n",
    "sns.despine(left=True)\n",
    "plt.xlabel('')\n",
    "plt.ylabel('purchase', fontsize=14)\n",
    "plt.xticks(rotation=30)\n",
    "plt.show()"
   ]
  },
  {
   "cell_type": "markdown",
   "metadata": {},
   "source": [
    "Видно, что количество покупок растет с сентября по май, и снижается в летний период. Активнее всего покупают в осенне-зимний период."
   ]
  },
  {
   "cell_type": "markdown",
   "metadata": {},
   "source": [
    "## Средний чек"
   ]
  },
  {
   "cell_type": "code",
   "execution_count": 526,
   "metadata": {},
   "outputs": [
    {
     "data": {
      "text/plain": [
       "count    50415.000000\n",
       "mean         4.999647\n",
       "std         21.818359\n",
       "min          0.000000\n",
       "25%          1.220000\n",
       "50%          2.500000\n",
       "75%          4.890000\n",
       "max       2633.280000\n",
       "Name: revenue, dtype: float64"
      ]
     },
     "execution_count": 526,
     "metadata": {},
     "output_type": "execute_result"
    }
   ],
   "source": [
    "orders['revenue'].describe()"
   ]
  },
  {
   "cell_type": "code",
   "execution_count": 527,
   "metadata": {},
   "outputs": [
    {
     "name": "stdout",
     "output_type": "stream",
     "text": [
      "<class 'pandas.core.frame.DataFrame'>\n",
      "Int64Index: 50415 entries, 0 to 50414\n",
      "Data columns (total 8 columns):\n",
      "buy_ts                  50415 non-null datetime64[ns]\n",
      "revenue                 50415 non-null float64\n",
      "uid                     50415 non-null uint64\n",
      "first_ts_datetime       50415 non-null datetime64[ns]\n",
      "start_to_buy_sec        50415 non-null int64\n",
      "first_order_datetime    50415 non-null datetime64[ns]\n",
      "order_month             50415 non-null datetime64[ns]\n",
      "first_order_month       50415 non-null datetime64[ns]\n",
      "dtypes: datetime64[ns](5), float64(1), int64(1), uint64(1)\n",
      "memory usage: 3.5 MB\n"
     ]
    }
   ],
   "source": [
    "orders.info()"
   ]
  },
  {
   "cell_type": "code",
   "execution_count": 528,
   "metadata": {},
   "outputs": [],
   "source": [
    "first_orders = orders.groupby('uid').agg({'buy_ts': 'min'}).reset_index()\n",
    "first_orders.columns = ['uid', 'first_order_ts']\n",
    "\n",
    "first_visits = visits.groupby('uid').agg({'start_ts': 'min'}).reset_index()\n",
    "first_visits.columns = ['uid', 'first_visit_ts']\n",
    "\n",
    "buyers = pd.merge(first_visits, first_orders, on='uid')\n",
    "buyers['first_order_month'] = buyers['first_order_ts'].astype('datetime64[M]')\n",
    "\n",
    "cohort_sizes = buyers.groupby('first_order_month').agg({'uid': 'nunique'}).reset_index()\n",
    "cohort_sizes.rename(columns={'uid': 'n_buyers'}, inplace=True)\n",
    "\n",
    "cohorts = pd.merge(orders, buyers, how='inner', on=['uid', 'first_order_month'])\\\n",
    "    .groupby(['first_order_month', 'order_month'])\\\n",
    "    .agg({'revenue': ['sum', 'count']}).reset_index()\n",
    "    \n",
    "# Считаем возраст каждой когорты\n",
    "\n",
    "cohorts['age_month'] = ((cohorts['order_month'] - cohorts['first_order_month']) / np.timedelta64(1,'M')).round()\n",
    "cohorts.columns = ['first_order_month', 'order_month', 'revenue', 'n_orders', 'age_month']\n",
    "    \n",
    "# Добавляем в когортный отчет количество покупателей в каждой когорте \n",
    "# и считаем выручку и количество заказов на каждого покупателя.\n",
    "\n",
    "cohorts_report = pd.merge(cohort_sizes, cohorts, on = 'first_order_month')\n",
    "cohorts_report['rev_per_buyer'] = cohorts_report['revenue'] / cohorts_report['n_buyers']\n",
    "cohorts_report['orders_per_buyer'] = cohorts_report['n_orders'] / cohorts_report['n_buyers']"
   ]
  },
  {
   "cell_type": "code",
   "execution_count": 529,
   "metadata": {},
   "outputs": [
    {
     "data": {
      "image/png": "[encoded data removed]",
      "text/plain": [
       "<Figure size 1080x648 with 2 Axes>"
      ]
     },
     "metadata": {},
     "output_type": "display_data"
    }
   ],
   "source": [
    " # Возростной когортный отчет, показывающий накопительную выручку на покупателя\n",
    "\n",
    "cohorts_age = cohorts_report.pivot_table(\n",
    "index='first_order_month', \n",
    "columns='age_month', \n",
    "values='rev_per_buyer', \n",
    "aggfunc='sum'\n",
    ").cumsum(axis=1)\n",
    "\n",
    "#cohorts_age.fillna('') \n",
    "\n",
    "sns.set(style='white')\n",
    "plt.figure(figsize=(15, 9))\n",
    "plt.title('Cohorts: Cumulative Revenue', fontsize=20)\n",
    "sns.heatmap(cohorts_age, cmap=\"YlGnBu\", annot=True, fmt='.3', vmax= 10, linecolor='gray', yticklabels=cohorts_age.index.strftime('%Y-%m'),)\n",
    "plt.xlabel('age_month', fontsize=14)\n",
    "plt.ylabel('first order month', fontsize=14)\n",
    "\n",
    "plt.show()"
   ]
  },
  {
   "cell_type": "code",
   "execution_count": 530,
   "metadata": {
    "scrolled": false
   },
   "outputs": [
    {
     "data": {
      "text/html": [
       "<div>\n",
       "<style scoped>\n",
       "    .dataframe tbody tr th:only-of-type {\n",
       "        vertical-align: middle;\n",
       "    }\n",
       "\n",
       "    .dataframe tbody tr th {\n",
       "        vertical-align: top;\n",
       "    }\n",
       "\n",
       "    .dataframe thead tr th {\n",
       "        text-align: left;\n",
       "    }\n",
       "\n",
       "    .dataframe thead tr:last-of-type th {\n",
       "        text-align: right;\n",
       "    }\n",
       "</style>\n",
       "<table border=\"1\" class=\"dataframe\">\n",
       "  <thead>\n",
       "    <tr>\n",
       "      <th></th>\n",
       "      <th colspan=\"10\" halign=\"left\">orders_per_buyer</th>\n",
       "      <th>...</th>\n",
       "      <th colspan=\"10\" halign=\"left\">rev_per_buyer</th>\n",
       "    </tr>\n",
       "    <tr>\n",
       "      <th>age_month</th>\n",
       "      <th>0.0</th>\n",
       "      <th>1.0</th>\n",
       "      <th>2.0</th>\n",
       "      <th>3.0</th>\n",
       "      <th>4.0</th>\n",
       "      <th>5.0</th>\n",
       "      <th>6.0</th>\n",
       "      <th>7.0</th>\n",
       "      <th>8.0</th>\n",
       "      <th>9.0</th>\n",
       "      <th>...</th>\n",
       "      <th>2.0</th>\n",
       "      <th>3.0</th>\n",
       "      <th>4.0</th>\n",
       "      <th>5.0</th>\n",
       "      <th>6.0</th>\n",
       "      <th>7.0</th>\n",
       "      <th>8.0</th>\n",
       "      <th>9.0</th>\n",
       "      <th>10.0</th>\n",
       "      <th>11.0</th>\n",
       "    </tr>\n",
       "    <tr>\n",
       "      <th>first_order_month</th>\n",
       "      <th></th>\n",
       "      <th></th>\n",
       "      <th></th>\n",
       "      <th></th>\n",
       "      <th></th>\n",
       "      <th></th>\n",
       "      <th></th>\n",
       "      <th></th>\n",
       "      <th></th>\n",
       "      <th></th>\n",
       "      <th></th>\n",
       "      <th></th>\n",
       "      <th></th>\n",
       "      <th></th>\n",
       "      <th></th>\n",
       "      <th></th>\n",
       "      <th></th>\n",
       "      <th></th>\n",
       "      <th></th>\n",
       "      <th></th>\n",
       "      <th></th>\n",
       "    </tr>\n",
       "  </thead>\n",
       "  <tbody>\n",
       "    <tr>\n",
       "      <td>2017-06-01</td>\n",
       "      <td>1.163618</td>\n",
       "      <td>1.25111</td>\n",
       "      <td>1.33712</td>\n",
       "      <td>1.44884</td>\n",
       "      <td>1.59318</td>\n",
       "      <td>1.70094</td>\n",
       "      <td>1.83737</td>\n",
       "      <td>1.92338</td>\n",
       "      <td>2.02818</td>\n",
       "      <td>2.10381</td>\n",
       "      <td>...</td>\n",
       "      <td>7.84115</td>\n",
       "      <td>8.79582</td>\n",
       "      <td>9.81835</td>\n",
       "      <td>10.5539</td>\n",
       "      <td>11.5043</td>\n",
       "      <td>12.0859</td>\n",
       "      <td>12.6391</td>\n",
       "      <td>13.2449</td>\n",
       "      <td>13.8161</td>\n",
       "      <td>14.073</td>\n",
       "    </tr>\n",
       "    <tr>\n",
       "      <td>2017-07-01</td>\n",
       "      <td>1.136765</td>\n",
       "      <td>1.18877</td>\n",
       "      <td>1.25117</td>\n",
       "      <td>1.30525</td>\n",
       "      <td>1.34269</td>\n",
       "      <td>1.38534</td>\n",
       "      <td>1.41706</td>\n",
       "      <td>1.44306</td>\n",
       "      <td>1.47322</td>\n",
       "      <td>1.4857</td>\n",
       "      <td>...</td>\n",
       "      <td>8.48222</td>\n",
       "      <td>8.8412</td>\n",
       "      <td>9.01799</td>\n",
       "      <td>9.17404</td>\n",
       "      <td>9.29424</td>\n",
       "      <td>9.43606</td>\n",
       "      <td>9.5973</td>\n",
       "      <td>9.74444</td>\n",
       "      <td>9.90011</td>\n",
       "      <td></td>\n",
       "    </tr>\n",
       "    <tr>\n",
       "      <td>2017-08-01</td>\n",
       "      <td>1.118978</td>\n",
       "      <td>1.19781</td>\n",
       "      <td>1.2708</td>\n",
       "      <td>1.32993</td>\n",
       "      <td>1.39197</td>\n",
       "      <td>1.43723</td>\n",
       "      <td>1.47299</td>\n",
       "      <td>1.52993</td>\n",
       "      <td>1.5635</td>\n",
       "      <td>1.59708</td>\n",
       "      <td>...</td>\n",
       "      <td>7.80407</td>\n",
       "      <td>8.19535</td>\n",
       "      <td>8.6894</td>\n",
       "      <td>8.97294</td>\n",
       "      <td>9.18361</td>\n",
       "      <td>9.58861</td>\n",
       "      <td>9.88082</td>\n",
       "      <td>10.0688</td>\n",
       "      <td></td>\n",
       "      <td></td>\n",
       "    </tr>\n",
       "    <tr>\n",
       "      <td>2017-09-01</td>\n",
       "      <td>1.136381</td>\n",
       "      <td>1.22123</td>\n",
       "      <td>1.28361</td>\n",
       "      <td>1.34715</td>\n",
       "      <td>1.37311</td>\n",
       "      <td>1.41534</td>\n",
       "      <td>1.45719</td>\n",
       "      <td>1.47888</td>\n",
       "      <td>1.50252</td>\n",
       "      <td></td>\n",
       "      <td>...</td>\n",
       "      <td>8.78556</td>\n",
       "      <td>12.7614</td>\n",
       "      <td>13.1619</td>\n",
       "      <td>13.809</td>\n",
       "      <td>14.5106</td>\n",
       "      <td>14.7537</td>\n",
       "      <td>14.9377</td>\n",
       "      <td></td>\n",
       "      <td></td>\n",
       "      <td></td>\n",
       "    </tr>\n",
       "    <tr>\n",
       "      <td>2017-10-01</td>\n",
       "      <td>1.143779</td>\n",
       "      <td>1.21613</td>\n",
       "      <td>1.25346</td>\n",
       "      <td>1.28157</td>\n",
       "      <td>1.31129</td>\n",
       "      <td>1.33502</td>\n",
       "      <td>1.35484</td>\n",
       "      <td>1.38364</td>\n",
       "      <td></td>\n",
       "      <td></td>\n",
       "      <td>...</td>\n",
       "      <td>7.11453</td>\n",
       "      <td>7.27168</td>\n",
       "      <td>7.42324</td>\n",
       "      <td>7.5436</td>\n",
       "      <td>7.62841</td>\n",
       "      <td>7.74388</td>\n",
       "      <td></td>\n",
       "      <td></td>\n",
       "      <td></td>\n",
       "      <td></td>\n",
       "    </tr>\n",
       "    <tr>\n",
       "      <td>2017-11-01</td>\n",
       "      <td>1.179368</td>\n",
       "      <td>1.27665</td>\n",
       "      <td>1.32124</td>\n",
       "      <td>1.37295</td>\n",
       "      <td>1.40627</td>\n",
       "      <td>1.42073</td>\n",
       "      <td>1.44572</td>\n",
       "      <td></td>\n",
       "      <td></td>\n",
       "      <td></td>\n",
       "      <td>...</td>\n",
       "      <td>7.1992</td>\n",
       "      <td>7.52415</td>\n",
       "      <td>7.67216</td>\n",
       "      <td>7.72604</td>\n",
       "      <td>7.84097</td>\n",
       "      <td></td>\n",
       "      <td></td>\n",
       "      <td></td>\n",
       "      <td></td>\n",
       "      <td></td>\n",
       "    </tr>\n",
       "    <tr>\n",
       "      <td>2017-12-01</td>\n",
       "      <td>1.152635</td>\n",
       "      <td>1.21424</td>\n",
       "      <td>1.26032</td>\n",
       "      <td>1.30116</td>\n",
       "      <td>1.32078</td>\n",
       "      <td>1.34474</td>\n",
       "      <td></td>\n",
       "      <td></td>\n",
       "      <td></td>\n",
       "      <td></td>\n",
       "      <td>...</td>\n",
       "      <td>7.2684</td>\n",
       "      <td>8.33368</td>\n",
       "      <td>8.64661</td>\n",
       "      <td>8.98465</td>\n",
       "      <td></td>\n",
       "      <td></td>\n",
       "      <td></td>\n",
       "      <td></td>\n",
       "      <td></td>\n",
       "      <td></td>\n",
       "    </tr>\n",
       "    <tr>\n",
       "      <td>2018-01-01</td>\n",
       "      <td>1.121554</td>\n",
       "      <td>1.18796</td>\n",
       "      <td>1.2351</td>\n",
       "      <td>1.25408</td>\n",
       "      <td>1.2772</td>\n",
       "      <td></td>\n",
       "      <td></td>\n",
       "      <td></td>\n",
       "      <td></td>\n",
       "      <td></td>\n",
       "      <td>...</td>\n",
       "      <td>6.01188</td>\n",
       "      <td>6.15465</td>\n",
       "      <td>6.21735</td>\n",
       "      <td></td>\n",
       "      <td></td>\n",
       "      <td></td>\n",
       "      <td></td>\n",
       "      <td></td>\n",
       "      <td></td>\n",
       "      <td></td>\n",
       "    </tr>\n",
       "    <tr>\n",
       "      <td>2018-02-01</td>\n",
       "      <td>1.121611</td>\n",
       "      <td>1.18242</td>\n",
       "      <td>1.20515</td>\n",
       "      <td>1.22432</td>\n",
       "      <td></td>\n",
       "      <td></td>\n",
       "      <td></td>\n",
       "      <td></td>\n",
       "      <td></td>\n",
       "      <td></td>\n",
       "      <td>...</td>\n",
       "      <td>5.7381</td>\n",
       "      <td>5.81224</td>\n",
       "      <td></td>\n",
       "      <td></td>\n",
       "      <td></td>\n",
       "      <td></td>\n",
       "      <td></td>\n",
       "      <td></td>\n",
       "      <td></td>\n",
       "      <td></td>\n",
       "    </tr>\n",
       "    <tr>\n",
       "      <td>2018-03-01</td>\n",
       "      <td>1.168978</td>\n",
       "      <td>1.21936</td>\n",
       "      <td>1.26918</td>\n",
       "      <td></td>\n",
       "      <td></td>\n",
       "      <td></td>\n",
       "      <td></td>\n",
       "      <td></td>\n",
       "      <td></td>\n",
       "      <td></td>\n",
       "      <td>...</td>\n",
       "      <td>6.72443</td>\n",
       "      <td></td>\n",
       "      <td></td>\n",
       "      <td></td>\n",
       "      <td></td>\n",
       "      <td></td>\n",
       "      <td></td>\n",
       "      <td></td>\n",
       "      <td></td>\n",
       "      <td></td>\n",
       "    </tr>\n",
       "    <tr>\n",
       "      <td>2018-04-01</td>\n",
       "      <td>1.096221</td>\n",
       "      <td>1.1819</td>\n",
       "      <td></td>\n",
       "      <td></td>\n",
       "      <td></td>\n",
       "      <td></td>\n",
       "      <td></td>\n",
       "      <td></td>\n",
       "      <td></td>\n",
       "      <td></td>\n",
       "      <td>...</td>\n",
       "      <td></td>\n",
       "      <td></td>\n",
       "      <td></td>\n",
       "      <td></td>\n",
       "      <td></td>\n",
       "      <td></td>\n",
       "      <td></td>\n",
       "      <td></td>\n",
       "      <td></td>\n",
       "      <td></td>\n",
       "    </tr>\n",
       "    <tr>\n",
       "      <td>2018-05-01</td>\n",
       "      <td>1.087349</td>\n",
       "      <td></td>\n",
       "      <td></td>\n",
       "      <td></td>\n",
       "      <td></td>\n",
       "      <td></td>\n",
       "      <td></td>\n",
       "      <td></td>\n",
       "      <td></td>\n",
       "      <td></td>\n",
       "      <td>...</td>\n",
       "      <td></td>\n",
       "      <td></td>\n",
       "      <td></td>\n",
       "      <td></td>\n",
       "      <td></td>\n",
       "      <td></td>\n",
       "      <td></td>\n",
       "      <td></td>\n",
       "      <td></td>\n",
       "      <td></td>\n",
       "    </tr>\n",
       "    <tr>\n",
       "      <td>2018-06-01</td>\n",
       "      <td>1.000000</td>\n",
       "      <td></td>\n",
       "      <td></td>\n",
       "      <td></td>\n",
       "      <td></td>\n",
       "      <td></td>\n",
       "      <td></td>\n",
       "      <td></td>\n",
       "      <td></td>\n",
       "      <td></td>\n",
       "      <td>...</td>\n",
       "      <td></td>\n",
       "      <td></td>\n",
       "      <td></td>\n",
       "      <td></td>\n",
       "      <td></td>\n",
       "      <td></td>\n",
       "      <td></td>\n",
       "      <td></td>\n",
       "      <td></td>\n",
       "      <td></td>\n",
       "    </tr>\n",
       "  </tbody>\n",
       "</table>\n",
       "<p>13 rows × 24 columns</p>\n",
       "</div>"
      ],
      "text/plain": [
       "                  orders_per_buyer                                      \\\n",
       "age_month                     0.0      1.0      2.0      3.0      4.0    \n",
       "first_order_month                                                        \n",
       "2017-06-01                1.163618  1.25111  1.33712  1.44884  1.59318   \n",
       "2017-07-01                1.136765  1.18877  1.25117  1.30525  1.34269   \n",
       "2017-08-01                1.118978  1.19781   1.2708  1.32993  1.39197   \n",
       "2017-09-01                1.136381  1.22123  1.28361  1.34715  1.37311   \n",
       "2017-10-01                1.143779  1.21613  1.25346  1.28157  1.31129   \n",
       "2017-11-01                1.179368  1.27665  1.32124  1.37295  1.40627   \n",
       "2017-12-01                1.152635  1.21424  1.26032  1.30116  1.32078   \n",
       "2018-01-01                1.121554  1.18796   1.2351  1.25408   1.2772   \n",
       "2018-02-01                1.121611  1.18242  1.20515  1.22432            \n",
       "2018-03-01                1.168978  1.21936  1.26918                     \n",
       "2018-04-01                1.096221   1.1819                              \n",
       "2018-05-01                1.087349                                       \n",
       "2018-06-01                1.000000                                       \n",
       "\n",
       "                                                                ...  \\\n",
       "age_month             5.0      6.0      7.0      8.0      9.0   ...   \n",
       "first_order_month                                               ...   \n",
       "2017-06-01         1.70094  1.83737  1.92338  2.02818  2.10381  ...   \n",
       "2017-07-01         1.38534  1.41706  1.44306  1.47322   1.4857  ...   \n",
       "2017-08-01         1.43723  1.47299  1.52993   1.5635  1.59708  ...   \n",
       "2017-09-01         1.41534  1.45719  1.47888  1.50252           ...   \n",
       "2017-10-01         1.33502  1.35484  1.38364                    ...   \n",
       "2017-11-01         1.42073  1.44572                             ...   \n",
       "2017-12-01         1.34474                                      ...   \n",
       "2018-01-01                                                      ...   \n",
       "2018-02-01                                                      ...   \n",
       "2018-03-01                                                      ...   \n",
       "2018-04-01                                                      ...   \n",
       "2018-05-01                                                      ...   \n",
       "2018-06-01                                                      ...   \n",
       "\n",
       "                  rev_per_buyer                                               \\\n",
       "age_month                  2.0      3.0      4.0      5.0      6.0      7.0    \n",
       "first_order_month                                                              \n",
       "2017-06-01              7.84115  8.79582  9.81835  10.5539  11.5043  12.0859   \n",
       "2017-07-01              8.48222   8.8412  9.01799  9.17404  9.29424  9.43606   \n",
       "2017-08-01              7.80407  8.19535   8.6894  8.97294  9.18361  9.58861   \n",
       "2017-09-01              8.78556  12.7614  13.1619   13.809  14.5106  14.7537   \n",
       "2017-10-01              7.11453  7.27168  7.42324   7.5436  7.62841  7.74388   \n",
       "2017-11-01               7.1992  7.52415  7.67216  7.72604  7.84097            \n",
       "2017-12-01               7.2684  8.33368  8.64661  8.98465                     \n",
       "2018-01-01              6.01188  6.15465  6.21735                              \n",
       "2018-02-01               5.7381  5.81224                                       \n",
       "2018-03-01              6.72443                                                \n",
       "2018-04-01                                                                     \n",
       "2018-05-01                                                                     \n",
       "2018-06-01                                                                     \n",
       "\n",
       "                                                      \n",
       "age_month             8.0      9.0      10.0    11.0  \n",
       "first_order_month                                     \n",
       "2017-06-01         12.6391  13.2449  13.8161  14.073  \n",
       "2017-07-01          9.5973  9.74444  9.90011          \n",
       "2017-08-01         9.88082  10.0688                   \n",
       "2017-09-01         14.9377                            \n",
       "2017-10-01                                            \n",
       "2017-11-01                                            \n",
       "2017-12-01                                            \n",
       "2018-01-01                                            \n",
       "2018-02-01                                            \n",
       "2018-03-01                                            \n",
       "2018-04-01                                            \n",
       "2018-05-01                                            \n",
       "2018-06-01                                            \n",
       "\n",
       "[13 rows x 24 columns]"
      ]
     },
     "metadata": {},
     "output_type": "display_data"
    }
   ],
   "source": [
    "# Возростной когортный отчет, показывающий накопительное количество заказов и выручку на покупателя\n",
    "\n",
    "cohorts_age = cohorts_report.pivot_table(\n",
    "index='first_order_month', \n",
    "columns='age_month', \n",
    "values=['rev_per_buyer', 'orders_per_buyer'], \n",
    "aggfunc='sum'\n",
    ").cumsum(axis=1)\n",
    "\n",
    "display(cohorts_age.fillna(''))"
   ]
  },
  {
   "cell_type": "code",
   "execution_count": 531,
   "metadata": {},
   "outputs": [
    {
     "name": "stdout",
     "output_type": "stream",
     "text": [
      "В среднем за 6 месяцев после первой покупки каждый покупатель делает 1.43 заказа и приносит $9.54 выручки\n"
     ]
    }
   ],
   "source": [
    "print('В среднем за 6 месяцев после первой покупки каждый покупатель делает {:.2f} заказа и приносит ${:.2f} выручки'\\\n",
    "  .format(cohorts_age['orders_per_buyer'][5].mean(), cohorts_age['rev_per_buyer'][5].mean()))"
   ]
  },
  {
   "cell_type": "markdown",
   "metadata": {},
   "source": [
    "## Ценность клиента (LTV)"
   ]
  },
  {
   "cell_type": "markdown",
   "metadata": {},
   "source": [
    "Чтобы решить эту задачу, следует посчитать \"пожизненную\" ценность клиента - метрику `LTV`.\n",
    "\n",
    "\n",
    "`LTV` — итоговая сумма денег, которую один клиент приносит в среднем со всех своих покупок. При расчёте `LTV` обычно обратимся к валовой прибыли с клиента за период."
   ]
  },
  {
   "cell_type": "markdown",
   "metadata": {},
   "source": [
    "Cформируем месячные когорты. Выделим месяцы из дат в таблицах с заказами и расходами:"
   ]
  },
  {
   "cell_type": "code",
   "execution_count": 532,
   "metadata": {},
   "outputs": [],
   "source": [
    "costs['month'] = costs['dt'].astype('datetime64[M]')"
   ]
  },
  {
   "cell_type": "markdown",
   "metadata": {},
   "source": [
    "Получим месяц первой покупки каждого покупателя:"
   ]
  },
  {
   "cell_type": "code",
   "execution_count": 533,
   "metadata": {},
   "outputs": [
    {
     "data": {
      "text/html": [
       "<div>\n",
       "<style scoped>\n",
       "    .dataframe tbody tr th:only-of-type {\n",
       "        vertical-align: middle;\n",
       "    }\n",
       "\n",
       "    .dataframe tbody tr th {\n",
       "        vertical-align: top;\n",
       "    }\n",
       "\n",
       "    .dataframe thead th {\n",
       "        text-align: right;\n",
       "    }\n",
       "</style>\n",
       "<table border=\"1\" class=\"dataframe\">\n",
       "  <thead>\n",
       "    <tr style=\"text-align: right;\">\n",
       "      <th></th>\n",
       "      <th>uid</th>\n",
       "      <th>first_order_month</th>\n",
       "    </tr>\n",
       "  </thead>\n",
       "  <tbody>\n",
       "    <tr>\n",
       "      <td>0</td>\n",
       "      <td>313578113262317</td>\n",
       "      <td>2018-01-01</td>\n",
       "    </tr>\n",
       "    <tr>\n",
       "      <td>1</td>\n",
       "      <td>1575281904278712</td>\n",
       "      <td>2017-06-01</td>\n",
       "    </tr>\n",
       "    <tr>\n",
       "      <td>2</td>\n",
       "      <td>2429014661409475</td>\n",
       "      <td>2017-10-01</td>\n",
       "    </tr>\n",
       "    <tr>\n",
       "      <td>3</td>\n",
       "      <td>2464366381792757</td>\n",
       "      <td>2018-01-01</td>\n",
       "    </tr>\n",
       "    <tr>\n",
       "      <td>4</td>\n",
       "      <td>2551852515556206</td>\n",
       "      <td>2017-11-01</td>\n",
       "    </tr>\n",
       "  </tbody>\n",
       "</table>\n",
       "</div>"
      ],
      "text/plain": [
       "                uid first_order_month\n",
       "0   313578113262317        2018-01-01\n",
       "1  1575281904278712        2017-06-01\n",
       "2  2429014661409475        2017-10-01\n",
       "3  2464366381792757        2018-01-01\n",
       "4  2551852515556206        2017-11-01"
      ]
     },
     "metadata": {},
     "output_type": "display_data"
    }
   ],
   "source": [
    "first_orders = orders.groupby('uid').agg({'order_month': 'min'}).reset_index()\n",
    "first_orders.columns = ['uid', 'first_order_month']\n",
    "display(first_orders.head())"
   ]
  },
  {
   "cell_type": "markdown",
   "metadata": {},
   "source": [
    "Посчитаем количество новых покупателей `n_buyers` за каждый месяц:"
   ]
  },
  {
   "cell_type": "code",
   "execution_count": 534,
   "metadata": {},
   "outputs": [
    {
     "data": {
      "text/html": [
       "<div>\n",
       "<style scoped>\n",
       "    .dataframe tbody tr th:only-of-type {\n",
       "        vertical-align: middle;\n",
       "    }\n",
       "\n",
       "    .dataframe tbody tr th {\n",
       "        vertical-align: top;\n",
       "    }\n",
       "\n",
       "    .dataframe thead th {\n",
       "        text-align: right;\n",
       "    }\n",
       "</style>\n",
       "<table border=\"1\" class=\"dataframe\">\n",
       "  <thead>\n",
       "    <tr style=\"text-align: right;\">\n",
       "      <th></th>\n",
       "      <th>first_order_month</th>\n",
       "      <th>n_buyers</th>\n",
       "    </tr>\n",
       "  </thead>\n",
       "  <tbody>\n",
       "    <tr>\n",
       "      <td>0</td>\n",
       "      <td>2017-06-01</td>\n",
       "      <td>2023</td>\n",
       "    </tr>\n",
       "    <tr>\n",
       "      <td>1</td>\n",
       "      <td>2017-07-01</td>\n",
       "      <td>1923</td>\n",
       "    </tr>\n",
       "    <tr>\n",
       "      <td>2</td>\n",
       "      <td>2017-08-01</td>\n",
       "      <td>1370</td>\n",
       "    </tr>\n",
       "    <tr>\n",
       "      <td>3</td>\n",
       "      <td>2017-09-01</td>\n",
       "      <td>2581</td>\n",
       "    </tr>\n",
       "    <tr>\n",
       "      <td>4</td>\n",
       "      <td>2017-10-01</td>\n",
       "      <td>4340</td>\n",
       "    </tr>\n",
       "  </tbody>\n",
       "</table>\n",
       "</div>"
      ],
      "text/plain": [
       "  first_order_month  n_buyers\n",
       "0        2017-06-01      2023\n",
       "1        2017-07-01      1923\n",
       "2        2017-08-01      1370\n",
       "3        2017-09-01      2581\n",
       "4        2017-10-01      4340"
      ]
     },
     "metadata": {},
     "output_type": "display_data"
    }
   ],
   "source": [
    "cohort_sizes = first_orders.groupby('first_order_month').agg({'uid': 'nunique'}).reset_index()\n",
    "cohort_sizes.columns = ['first_order_month', 'n_buyers']\n",
    "display(cohort_sizes.head())"
   ]
  },
  {
   "cell_type": "markdown",
   "metadata": {},
   "source": [
    "Сгруппируем таблицу заказов по месяцу первой покупки и месяцу каждого заказа и сложим выручку."
   ]
  },
  {
   "cell_type": "code",
   "execution_count": 535,
   "metadata": {},
   "outputs": [
    {
     "data": {
      "text/html": [
       "<div>\n",
       "<style scoped>\n",
       "    .dataframe tbody tr th:only-of-type {\n",
       "        vertical-align: middle;\n",
       "    }\n",
       "\n",
       "    .dataframe tbody tr th {\n",
       "        vertical-align: top;\n",
       "    }\n",
       "\n",
       "    .dataframe thead th {\n",
       "        text-align: right;\n",
       "    }\n",
       "</style>\n",
       "<table border=\"1\" class=\"dataframe\">\n",
       "  <thead>\n",
       "    <tr style=\"text-align: right;\">\n",
       "      <th></th>\n",
       "      <th>first_order_month</th>\n",
       "      <th>order_month</th>\n",
       "      <th>revenue</th>\n",
       "    </tr>\n",
       "  </thead>\n",
       "  <tbody>\n",
       "    <tr>\n",
       "      <td>0</td>\n",
       "      <td>2017-06-01</td>\n",
       "      <td>2017-06-01</td>\n",
       "      <td>9557.49</td>\n",
       "    </tr>\n",
       "    <tr>\n",
       "      <td>1</td>\n",
       "      <td>2017-06-01</td>\n",
       "      <td>2017-07-01</td>\n",
       "      <td>981.82</td>\n",
       "    </tr>\n",
       "    <tr>\n",
       "      <td>2</td>\n",
       "      <td>2017-06-01</td>\n",
       "      <td>2017-08-01</td>\n",
       "      <td>885.34</td>\n",
       "    </tr>\n",
       "    <tr>\n",
       "      <td>3</td>\n",
       "      <td>2017-06-01</td>\n",
       "      <td>2017-09-01</td>\n",
       "      <td>1931.30</td>\n",
       "    </tr>\n",
       "    <tr>\n",
       "      <td>4</td>\n",
       "      <td>2017-06-01</td>\n",
       "      <td>2017-10-01</td>\n",
       "      <td>2068.58</td>\n",
       "    </tr>\n",
       "  </tbody>\n",
       "</table>\n",
       "</div>"
      ],
      "text/plain": [
       "  first_order_month order_month  revenue\n",
       "0        2017-06-01  2017-06-01  9557.49\n",
       "1        2017-06-01  2017-07-01   981.82\n",
       "2        2017-06-01  2017-08-01   885.34\n",
       "3        2017-06-01  2017-09-01  1931.30\n",
       "4        2017-06-01  2017-10-01  2068.58"
      ]
     },
     "metadata": {},
     "output_type": "display_data"
    }
   ],
   "source": [
    "cohorts_new = orders.groupby(['first_order_month','order_month']).agg({'revenue': 'sum'}).reset_index()\n",
    "display(cohorts_new.head())"
   ]
  },
  {
   "cell_type": "markdown",
   "metadata": {},
   "source": [
    "Строка таблицы `cohorts` показывает, какую выручку принесла когорта.\n",
    "\n",
    "С точки зрения когортного анализа `LTV` — накопительная выручка когорты в пересчёте на количество людей. Добавим в таблицу `cohorts` данные о том, сколько людей первый раз совершили покупку в каждый месяц:"
   ]
  },
  {
   "cell_type": "code",
   "execution_count": 536,
   "metadata": {},
   "outputs": [
    {
     "data": {
      "text/html": [
       "<div>\n",
       "<style scoped>\n",
       "    .dataframe tbody tr th:only-of-type {\n",
       "        vertical-align: middle;\n",
       "    }\n",
       "\n",
       "    .dataframe tbody tr th {\n",
       "        vertical-align: top;\n",
       "    }\n",
       "\n",
       "    .dataframe thead th {\n",
       "        text-align: right;\n",
       "    }\n",
       "</style>\n",
       "<table border=\"1\" class=\"dataframe\">\n",
       "  <thead>\n",
       "    <tr style=\"text-align: right;\">\n",
       "      <th></th>\n",
       "      <th>first_order_month</th>\n",
       "      <th>n_buyers</th>\n",
       "      <th>order_month</th>\n",
       "      <th>revenue</th>\n",
       "    </tr>\n",
       "  </thead>\n",
       "  <tbody>\n",
       "    <tr>\n",
       "      <td>0</td>\n",
       "      <td>2017-06-01</td>\n",
       "      <td>2023</td>\n",
       "      <td>2017-06-01</td>\n",
       "      <td>9557.49</td>\n",
       "    </tr>\n",
       "    <tr>\n",
       "      <td>1</td>\n",
       "      <td>2017-06-01</td>\n",
       "      <td>2023</td>\n",
       "      <td>2017-07-01</td>\n",
       "      <td>981.82</td>\n",
       "    </tr>\n",
       "    <tr>\n",
       "      <td>2</td>\n",
       "      <td>2017-06-01</td>\n",
       "      <td>2023</td>\n",
       "      <td>2017-08-01</td>\n",
       "      <td>885.34</td>\n",
       "    </tr>\n",
       "    <tr>\n",
       "      <td>3</td>\n",
       "      <td>2017-06-01</td>\n",
       "      <td>2023</td>\n",
       "      <td>2017-09-01</td>\n",
       "      <td>1931.30</td>\n",
       "    </tr>\n",
       "    <tr>\n",
       "      <td>4</td>\n",
       "      <td>2017-06-01</td>\n",
       "      <td>2023</td>\n",
       "      <td>2017-10-01</td>\n",
       "      <td>2068.58</td>\n",
       "    </tr>\n",
       "  </tbody>\n",
       "</table>\n",
       "</div>"
      ],
      "text/plain": [
       "  first_order_month  n_buyers order_month  revenue\n",
       "0        2017-06-01      2023  2017-06-01  9557.49\n",
       "1        2017-06-01      2023  2017-07-01   981.82\n",
       "2        2017-06-01      2023  2017-08-01   885.34\n",
       "3        2017-06-01      2023  2017-09-01  1931.30\n",
       "4        2017-06-01      2023  2017-10-01  2068.58"
      ]
     },
     "metadata": {},
     "output_type": "display_data"
    }
   ],
   "source": [
    "report = pd.merge(cohort_sizes, cohorts_new, on='first_order_month')\n",
    "display(report.head())"
   ]
  },
  {
   "cell_type": "markdown",
   "metadata": {},
   "source": [
    "Так как `LTV` считают не из выручки, а из валовой прибыли, нужно найти валовую прибыль, умножив выручку на маржинальность. \n",
    "\n",
    "`LTV` — относительный показатель. Значит его удобнее смотреть по «возрастным» когортам, где в столбцах — не месяц заказа, а возраст `age` когорты."
   ]
  },
  {
   "cell_type": "code",
   "execution_count": 537,
   "metadata": {},
   "outputs": [
    {
     "data": {
      "text/html": [
       "<div>\n",
       "<style scoped>\n",
       "    .dataframe tbody tr th:only-of-type {\n",
       "        vertical-align: middle;\n",
       "    }\n",
       "\n",
       "    .dataframe tbody tr th {\n",
       "        vertical-align: top;\n",
       "    }\n",
       "\n",
       "    .dataframe thead th {\n",
       "        text-align: right;\n",
       "    }\n",
       "</style>\n",
       "<table border=\"1\" class=\"dataframe\">\n",
       "  <thead>\n",
       "    <tr style=\"text-align: right;\">\n",
       "      <th></th>\n",
       "      <th>first_order_month</th>\n",
       "      <th>n_buyers</th>\n",
       "      <th>order_month</th>\n",
       "      <th>revenue</th>\n",
       "      <th>gp</th>\n",
       "      <th>age</th>\n",
       "    </tr>\n",
       "  </thead>\n",
       "  <tbody>\n",
       "    <tr>\n",
       "      <td>0</td>\n",
       "      <td>2017-06-01</td>\n",
       "      <td>2023</td>\n",
       "      <td>2017-06-01</td>\n",
       "      <td>9557.49</td>\n",
       "      <td>4778.745</td>\n",
       "      <td>0</td>\n",
       "    </tr>\n",
       "    <tr>\n",
       "      <td>1</td>\n",
       "      <td>2017-06-01</td>\n",
       "      <td>2023</td>\n",
       "      <td>2017-07-01</td>\n",
       "      <td>981.82</td>\n",
       "      <td>490.910</td>\n",
       "      <td>1</td>\n",
       "    </tr>\n",
       "    <tr>\n",
       "      <td>2</td>\n",
       "      <td>2017-06-01</td>\n",
       "      <td>2023</td>\n",
       "      <td>2017-08-01</td>\n",
       "      <td>885.34</td>\n",
       "      <td>442.670</td>\n",
       "      <td>2</td>\n",
       "    </tr>\n",
       "    <tr>\n",
       "      <td>3</td>\n",
       "      <td>2017-06-01</td>\n",
       "      <td>2023</td>\n",
       "      <td>2017-09-01</td>\n",
       "      <td>1931.30</td>\n",
       "      <td>965.650</td>\n",
       "      <td>3</td>\n",
       "    </tr>\n",
       "    <tr>\n",
       "      <td>4</td>\n",
       "      <td>2017-06-01</td>\n",
       "      <td>2023</td>\n",
       "      <td>2017-10-01</td>\n",
       "      <td>2068.58</td>\n",
       "      <td>1034.290</td>\n",
       "      <td>4</td>\n",
       "    </tr>\n",
       "  </tbody>\n",
       "</table>\n",
       "</div>"
      ],
      "text/plain": [
       "  first_order_month  n_buyers order_month  revenue        gp  age\n",
       "0        2017-06-01      2023  2017-06-01  9557.49  4778.745    0\n",
       "1        2017-06-01      2023  2017-07-01   981.82   490.910    1\n",
       "2        2017-06-01      2023  2017-08-01   885.34   442.670    2\n",
       "3        2017-06-01      2023  2017-09-01  1931.30   965.650    3\n",
       "4        2017-06-01      2023  2017-10-01  2068.58  1034.290    4"
      ]
     },
     "metadata": {},
     "output_type": "display_data"
    }
   ],
   "source": [
    "# Зададим маржинальность\n",
    "margin_rate = 0.5\n",
    "\n",
    "# Посчитаем валовую прибыль\n",
    "report['gp'] = report['revenue'] * margin_rate\n",
    "\n",
    "# Посчитаем возраст когорт\n",
    "report['age'] = (report['order_month'] - report['first_order_month']) / np.timedelta64(1, 'M')\n",
    "report['age'] = report['age'].round().astype('int')\n",
    "\n",
    "display(report.head())"
   ]
  },
  {
   "cell_type": "markdown",
   "metadata": {},
   "source": [
    "Найдём `LTV`. Разделим валовую прибыль когорт за каждый месяц на общее число пользователей в каждой когорте. Для наглядности визуализируем когорты в виде тепловой карты:"
   ]
  },
  {
   "cell_type": "code",
   "execution_count": 538,
   "metadata": {},
   "outputs": [
    {
     "data": {
      "image/png": "[encoded data removed]",
      "text/plain": [
       "<Figure size 1080x648 with 2 Axes>"
      ]
     },
     "metadata": {},
     "output_type": "display_data"
    }
   ],
   "source": [
    "report['ltv'] = report['gp'] / report['n_buyers']\n",
    "\n",
    "output = report.pivot_table(\n",
    "        index='first_order_month', \n",
    "        columns='age', \n",
    "        values='ltv', \n",
    "        aggfunc='mean').round(2).cumsum(axis=1)\n",
    "\n",
    "output.fillna('')\n",
    "\n",
    "sns.set(style='white')\n",
    "plt.figure(figsize=(15, 9))\n",
    "plt.title('Cohorts: LTV', fontsize=20)\n",
    "sns.heatmap(output, cmap=\"YlGnBu\", annot=True, fmt='.3', vmax= 6.8, linecolor='gray', yticklabels=output.index.strftime('%Y-%m'),)\n",
    "plt.xlabel('age', fontsize=14)\n",
    "plt.ylabel('first order month', fontsize=14)\n",
    "\n",
    "plt.show()"
   ]
  },
  {
   "cell_type": "markdown",
   "metadata": {},
   "source": [
    "В среднем при маржинальности 50% каждый покупатель из первой когорты принес около $6 рублей выручки за 12\n",
    "месяцев «жизни». Сентябрьская когорта превзошла такие показатели уже на шестом месяце."
   ]
  },
  {
   "cell_type": "markdown",
   "metadata": {},
   "source": [
    "# <font color=green>Анализ маркетинговых каналов</font>\n",
    "\n",
    "- Сколько денег потратили? Всего / на каждый источник / по времени\n",
    "- Сколько стоило привлечение одного покупателя из каждого источника?\n",
    "- На сколько окупились расходы?"
   ]
  },
  {
   "cell_type": "code",
   "execution_count": 539,
   "metadata": {},
   "outputs": [
    {
     "data": {
      "text/html": [
       "<div>\n",
       "<style scoped>\n",
       "    .dataframe tbody tr th:only-of-type {\n",
       "        vertical-align: middle;\n",
       "    }\n",
       "\n",
       "    .dataframe tbody tr th {\n",
       "        vertical-align: top;\n",
       "    }\n",
       "\n",
       "    .dataframe thead th {\n",
       "        text-align: right;\n",
       "    }\n",
       "</style>\n",
       "<table border=\"1\" class=\"dataframe\">\n",
       "  <thead>\n",
       "    <tr style=\"text-align: right;\">\n",
       "      <th></th>\n",
       "      <th>source_id</th>\n",
       "      <th>dt</th>\n",
       "      <th>costs</th>\n",
       "      <th>month</th>\n",
       "    </tr>\n",
       "  </thead>\n",
       "  <tbody>\n",
       "    <tr>\n",
       "      <td>0</td>\n",
       "      <td>1</td>\n",
       "      <td>2017-06-01</td>\n",
       "      <td>75.20</td>\n",
       "      <td>2017-06-01</td>\n",
       "    </tr>\n",
       "    <tr>\n",
       "      <td>1</td>\n",
       "      <td>1</td>\n",
       "      <td>2017-06-02</td>\n",
       "      <td>62.25</td>\n",
       "      <td>2017-06-01</td>\n",
       "    </tr>\n",
       "    <tr>\n",
       "      <td>2</td>\n",
       "      <td>1</td>\n",
       "      <td>2017-06-03</td>\n",
       "      <td>36.53</td>\n",
       "      <td>2017-06-01</td>\n",
       "    </tr>\n",
       "    <tr>\n",
       "      <td>3</td>\n",
       "      <td>1</td>\n",
       "      <td>2017-06-04</td>\n",
       "      <td>55.00</td>\n",
       "      <td>2017-06-01</td>\n",
       "    </tr>\n",
       "    <tr>\n",
       "      <td>4</td>\n",
       "      <td>1</td>\n",
       "      <td>2017-06-05</td>\n",
       "      <td>57.08</td>\n",
       "      <td>2017-06-01</td>\n",
       "    </tr>\n",
       "  </tbody>\n",
       "</table>\n",
       "</div>"
      ],
      "text/plain": [
       "   source_id         dt  costs      month\n",
       "0          1 2017-06-01  75.20 2017-06-01\n",
       "1          1 2017-06-02  62.25 2017-06-01\n",
       "2          1 2017-06-03  36.53 2017-06-01\n",
       "3          1 2017-06-04  55.00 2017-06-01\n",
       "4          1 2017-06-05  57.08 2017-06-01"
      ]
     },
     "execution_count": 539,
     "metadata": {},
     "output_type": "execute_result"
    }
   ],
   "source": [
    "costs.head()"
   ]
  },
  {
   "cell_type": "markdown",
   "metadata": {},
   "source": [
    "## Затраты на маркетинг"
   ]
  },
  {
   "cell_type": "code",
   "execution_count": 540,
   "metadata": {},
   "outputs": [
    {
     "name": "stdout",
     "output_type": "stream",
     "text": [
      "Всего потратили (руб): 329131.62\n"
     ]
    }
   ],
   "source": [
    "costs_total = costs['costs'].sum()\n",
    "\n",
    "print('Всего потратили (руб):', costs_total)"
   ]
  },
  {
   "cell_type": "markdown",
   "metadata": {},
   "source": [
    "## Затраты по источникам "
   ]
  },
  {
   "cell_type": "code",
   "execution_count": 541,
   "metadata": {},
   "outputs": [
    {
     "data": {
      "text/html": [
       "<div>\n",
       "<style scoped>\n",
       "    .dataframe tbody tr th:only-of-type {\n",
       "        vertical-align: middle;\n",
       "    }\n",
       "\n",
       "    .dataframe tbody tr th {\n",
       "        vertical-align: top;\n",
       "    }\n",
       "\n",
       "    .dataframe thead th {\n",
       "        text-align: right;\n",
       "    }\n",
       "</style>\n",
       "<table border=\"1\" class=\"dataframe\">\n",
       "  <thead>\n",
       "    <tr style=\"text-align: right;\">\n",
       "      <th></th>\n",
       "      <th>source_id</th>\n",
       "      <th>cost</th>\n",
       "    </tr>\n",
       "  </thead>\n",
       "  <tbody>\n",
       "    <tr>\n",
       "      <td>0</td>\n",
       "      <td>1</td>\n",
       "      <td>20833.27</td>\n",
       "    </tr>\n",
       "    <tr>\n",
       "      <td>1</td>\n",
       "      <td>2</td>\n",
       "      <td>42806.04</td>\n",
       "    </tr>\n",
       "    <tr>\n",
       "      <td>2</td>\n",
       "      <td>3</td>\n",
       "      <td>141321.63</td>\n",
       "    </tr>\n",
       "    <tr>\n",
       "      <td>3</td>\n",
       "      <td>4</td>\n",
       "      <td>61073.60</td>\n",
       "    </tr>\n",
       "    <tr>\n",
       "      <td>4</td>\n",
       "      <td>5</td>\n",
       "      <td>51757.10</td>\n",
       "    </tr>\n",
       "    <tr>\n",
       "      <td>5</td>\n",
       "      <td>9</td>\n",
       "      <td>5517.49</td>\n",
       "    </tr>\n",
       "    <tr>\n",
       "      <td>6</td>\n",
       "      <td>10</td>\n",
       "      <td>5822.49</td>\n",
       "    </tr>\n",
       "  </tbody>\n",
       "</table>\n",
       "</div>"
      ],
      "text/plain": [
       "   source_id       cost\n",
       "0          1   20833.27\n",
       "1          2   42806.04\n",
       "2          3  141321.63\n",
       "3          4   61073.60\n",
       "4          5   51757.10\n",
       "5          9    5517.49\n",
       "6         10    5822.49"
      ]
     },
     "execution_count": 541,
     "metadata": {},
     "output_type": "execute_result"
    }
   ],
   "source": [
    "costs_per_source = costs.groupby('source_id').agg({'costs': 'sum'}).reset_index()\n",
    "costs_per_source.columns = ['source_id', 'cost']\n",
    "costs_per_source"
   ]
  },
  {
   "cell_type": "code",
   "execution_count": 542,
   "metadata": {},
   "outputs": [
    {
     "data": {
      "application/vnd.plotly.v1+json": {
       "config": {
        "plotlyServerURL": "https://plot.ly"
       },
       "data": [
        {
         "labels": [
          1,
          2,
          3,
          4,
          5,
          9,
          10
         ],
         "marker": {
          "colors": [
           "#3B8CDC",
           "#4DB8F8",
           "#3fc5f0",
           "#68DAF5",
           "#3276CE",
           "#204BA2",
           "#68DAF5"
          ]
         },
         "type": "pie",
         "values": [
          20833.26999999999,
          42806.03999999999,
          141321.62999999995,
          61073.599999999984,
          51757.100000000006,
          5517.489999999998,
          5822.489999999999
         ]
        }
       ],
       "layout": {
        "font": {
         "family": "Helvetica Neue",
         "size": 18
        },
        "template": {
         "data": {
          "bar": [
           {
            "error_x": {
             "color": "#2a3f5f"
            },
            "error_y": {
             "color": "#2a3f5f"
            },
            "marker": {
             "line": {
              "color": "#E5ECF6",
              "width": 0.5
             }
            },
            "type": "bar"
           }
          ],
          "barpolar": [
           {
            "marker": {
             "line": {
              "color": "#E5ECF6",
              "width": 0.5
             }
            },
            "type": "barpolar"
           }
          ],
          "carpet": [
           {
            "aaxis": {
             "endlinecolor": "#2a3f5f",
             "gridcolor": "white",
             "linecolor": "white",
             "minorgridcolor": "white",
             "startlinecolor": "#2a3f5f"
            },
            "baxis": {
             "endlinecolor": "#2a3f5f",
             "gridcolor": "white",
             "linecolor": "white",
             "minorgridcolor": "white",
             "startlinecolor": "#2a3f5f"
            },
            "type": "carpet"
           }
          ],
          "choropleth": [
           {
            "colorbar": {
             "outlinewidth": 0,
             "ticks": ""
            },
            "type": "choropleth"
           }
          ],
          "contour": [
           {
            "colorbar": {
             "outlinewidth": 0,
             "ticks": ""
            },
            "colorscale": [
             [
              0,
              "#0d0887"
             ],
             [
              0.1111111111111111,
              "#46039f"
             ],
             [
              0.2222222222222222,
              "#7201a8"
             ],
             [
              0.3333333333333333,
              "#9c179e"
             ],
             [
              0.4444444444444444,
              "#bd3786"
             ],
             [
              0.5555555555555556,
              "#d8576b"
             ],
             [
              0.6666666666666666,
              "#ed7953"
             ],
             [
              0.7777777777777778,
              "#fb9f3a"
             ],
             [
              0.8888888888888888,
              "#fdca26"
             ],
             [
              1,
              "#f0f921"
             ]
            ],
            "type": "contour"
           }
          ],
          "contourcarpet": [
           {
            "colorbar": {
             "outlinewidth": 0,
             "ticks": ""
            },
            "type": "contourcarpet"
           }
          ],
          "heatmap": [
           {
            "colorbar": {
             "outlinewidth": 0,
             "ticks": ""
            },
            "colorscale": [
             [
              0,
              "#0d0887"
             ],
             [
              0.1111111111111111,
              "#46039f"
             ],
             [
              0.2222222222222222,
              "#7201a8"
             ],
             [
              0.3333333333333333,
              "#9c179e"
             ],
             [
              0.4444444444444444,
              "#bd3786"
             ],
             [
              0.5555555555555556,
              "#d8576b"
             ],
             [
              0.6666666666666666,
              "#ed7953"
             ],
             [
              0.7777777777777778,
              "#fb9f3a"
             ],
             [
              0.8888888888888888,
              "#fdca26"
             ],
             [
              1,
              "#f0f921"
             ]
            ],
            "type": "heatmap"
           }
          ],
          "heatmapgl": [
           {
            "colorbar": {
             "outlinewidth": 0,
             "ticks": ""
            },
            "colorscale": [
             [
              0,
              "#0d0887"
             ],
             [
              0.1111111111111111,
              "#46039f"
             ],
             [
              0.2222222222222222,
              "#7201a8"
             ],
             [
              0.3333333333333333,
              "#9c179e"
             ],
             [
              0.4444444444444444,
              "#bd3786"
             ],
             [
              0.5555555555555556,
              "#d8576b"
             ],
             [
              0.6666666666666666,
              "#ed7953"
             ],
             [
              0.7777777777777778,
              "#fb9f3a"
             ],
             [
              0.8888888888888888,
              "#fdca26"
             ],
             [
              1,
              "#f0f921"
             ]
            ],
            "type": "heatmapgl"
           }
          ],
          "histogram": [
           {
            "marker": {
             "colorbar": {
              "outlinewidth": 0,
              "ticks": ""
             }
            },
            "type": "histogram"
           }
          ],
          "histogram2d": [
           {
            "colorbar": {
             "outlinewidth": 0,
             "ticks": ""
            },
            "colorscale": [
             [
              0,
              "#0d0887"
             ],
             [
              0.1111111111111111,
              "#46039f"
             ],
             [
              0.2222222222222222,
              "#7201a8"
             ],
             [
              0.3333333333333333,
              "#9c179e"
             ],
             [
              0.4444444444444444,
              "#bd3786"
             ],
             [
              0.5555555555555556,
              "#d8576b"
             ],
             [
              0.6666666666666666,
              "#ed7953"
             ],
             [
              0.7777777777777778,
              "#fb9f3a"
             ],
             [
              0.8888888888888888,
              "#fdca26"
             ],
             [
              1,
              "#f0f921"
             ]
            ],
            "type": "histogram2d"
           }
          ],
          "histogram2dcontour": [
           {
            "colorbar": {
             "outlinewidth": 0,
             "ticks": ""
            },
            "colorscale": [
             [
              0,
              "#0d0887"
             ],
             [
              0.1111111111111111,
              "#46039f"
             ],
             [
              0.2222222222222222,
              "#7201a8"
             ],
             [
              0.3333333333333333,
              "#9c179e"
             ],
             [
              0.4444444444444444,
              "#bd3786"
             ],
             [
              0.5555555555555556,
              "#d8576b"
             ],
             [
              0.6666666666666666,
              "#ed7953"
             ],
             [
              0.7777777777777778,
              "#fb9f3a"
             ],
             [
              0.8888888888888888,
              "#fdca26"
             ],
             [
              1,
              "#f0f921"
             ]
            ],
            "type": "histogram2dcontour"
           }
          ],
          "mesh3d": [
           {
            "colorbar": {
             "outlinewidth": 0,
             "ticks": ""
            },
            "type": "mesh3d"
           }
          ],
          "parcoords": [
           {
            "line": {
             "colorbar": {
              "outlinewidth": 0,
              "ticks": ""
             }
            },
            "type": "parcoords"
           }
          ],
          "scatter": [
           {
            "marker": {
             "colorbar": {
              "outlinewidth": 0,
              "ticks": ""
             }
            },
            "type": "scatter"
           }
          ],
          "scatter3d": [
           {
            "line": {
             "colorbar": {
              "outlinewidth": 0,
              "ticks": ""
             }
            },
            "marker": {
             "colorbar": {
              "outlinewidth": 0,
              "ticks": ""
             }
            },
            "type": "scatter3d"
           }
          ],
          "scattercarpet": [
           {
            "marker": {
             "colorbar": {
              "outlinewidth": 0,
              "ticks": ""
             }
            },
            "type": "scattercarpet"
           }
          ],
          "scattergeo": [
           {
            "marker": {
             "colorbar": {
              "outlinewidth": 0,
              "ticks": ""
             }
            },
            "type": "scattergeo"
           }
          ],
          "scattergl": [
           {
            "marker": {
             "colorbar": {
              "outlinewidth": 0,
              "ticks": ""
             }
            },
            "type": "scattergl"
           }
          ],
          "scattermapbox": [
           {
            "marker": {
             "colorbar": {
              "outlinewidth": 0,
              "ticks": ""
             }
            },
            "type": "scattermapbox"
           }
          ],
          "scatterpolar": [
           {
            "marker": {
             "colorbar": {
              "outlinewidth": 0,
              "ticks": ""
             }
            },
            "type": "scatterpolar"
           }
          ],
          "scatterpolargl": [
           {
            "marker": {
             "colorbar": {
              "outlinewidth": 0,
              "ticks": ""
             }
            },
            "type": "scatterpolargl"
           }
          ],
          "scatterternary": [
           {
            "marker": {
             "colorbar": {
              "outlinewidth": 0,
              "ticks": ""
             }
            },
            "type": "scatterternary"
           }
          ],
          "surface": [
           {
            "colorbar": {
             "outlinewidth": 0,
             "ticks": ""
            },
            "colorscale": [
             [
              0,
              "#0d0887"
             ],
             [
              0.1111111111111111,
              "#46039f"
             ],
             [
              0.2222222222222222,
              "#7201a8"
             ],
             [
              0.3333333333333333,
              "#9c179e"
             ],
             [
              0.4444444444444444,
              "#bd3786"
             ],
             [
              0.5555555555555556,
              "#d8576b"
             ],
             [
              0.6666666666666666,
              "#ed7953"
             ],
             [
              0.7777777777777778,
              "#fb9f3a"
             ],
             [
              0.8888888888888888,
              "#fdca26"
             ],
             [
              1,
              "#f0f921"
             ]
            ],
            "type": "surface"
           }
          ],
          "table": [
           {
            "cells": {
             "fill": {
              "color": "#EBF0F8"
             },
             "line": {
              "color": "white"
             }
            },
            "header": {
             "fill": {
              "color": "#C8D4E3"
             },
             "line": {
              "color": "white"
             }
            },
            "type": "table"
           }
          ]
         },
         "layout": {
          "annotationdefaults": {
           "arrowcolor": "#2a3f5f",
           "arrowhead": 0,
           "arrowwidth": 1
          },
          "colorscale": {
           "diverging": [
            [
             0,
             "#8e0152"
            ],
            [
             0.1,
             "#c51b7d"
            ],
            [
             0.2,
             "#de77ae"
            ],
            [
             0.3,
             "#f1b6da"
            ],
            [
             0.4,
             "#fde0ef"
            ],
            [
             0.5,
             "#f7f7f7"
            ],
            [
             0.6,
             "#e6f5d0"
            ],
            [
             0.7,
             "#b8e186"
            ],
            [
             0.8,
             "#7fbc41"
            ],
            [
             0.9,
             "#4d9221"
            ],
            [
             1,
             "#276419"
            ]
           ],
           "sequential": [
            [
             0,
             "#0d0887"
            ],
            [
             0.1111111111111111,
             "#46039f"
            ],
            [
             0.2222222222222222,
             "#7201a8"
            ],
            [
             0.3333333333333333,
             "#9c179e"
            ],
            [
             0.4444444444444444,
             "#bd3786"
            ],
            [
             0.5555555555555556,
             "#d8576b"
            ],
            [
             0.6666666666666666,
             "#ed7953"
            ],
            [
             0.7777777777777778,
             "#fb9f3a"
            ],
            [
             0.8888888888888888,
             "#fdca26"
            ],
            [
             1,
             "#f0f921"
            ]
           ],
           "sequentialminus": [
            [
             0,
             "#0d0887"
            ],
            [
             0.1111111111111111,
             "#46039f"
            ],
            [
             0.2222222222222222,
             "#7201a8"
            ],
            [
             0.3333333333333333,
             "#9c179e"
            ],
            [
             0.4444444444444444,
             "#bd3786"
            ],
            [
             0.5555555555555556,
             "#d8576b"
            ],
            [
             0.6666666666666666,
             "#ed7953"
            ],
            [
             0.7777777777777778,
             "#fb9f3a"
            ],
            [
             0.8888888888888888,
             "#fdca26"
            ],
            [
             1,
             "#f0f921"
            ]
           ]
          },
          "colorway": [
           "#636efa",
           "#EF553B",
           "#00cc96",
           "#ab63fa",
           "#FFA15A",
           "#19d3f3",
           "#FF6692",
           "#B6E880",
           "#FF97FF",
           "#FECB52"
          ],
          "font": {
           "color": "#2a3f5f"
          },
          "geo": {
           "bgcolor": "white",
           "lakecolor": "white",
           "landcolor": "#E5ECF6",
           "showlakes": true,
           "showland": true,
           "subunitcolor": "white"
          },
          "hoverlabel": {
           "align": "left"
          },
          "hovermode": "closest",
          "mapbox": {
           "style": "light"
          },
          "paper_bgcolor": "white",
          "plot_bgcolor": "#E5ECF6",
          "polar": {
           "angularaxis": {
            "gridcolor": "white",
            "linecolor": "white",
            "ticks": ""
           },
           "bgcolor": "#E5ECF6",
           "radialaxis": {
            "gridcolor": "white",
            "linecolor": "white",
            "ticks": ""
           }
          },
          "scene": {
           "xaxis": {
            "backgroundcolor": "#E5ECF6",
            "gridcolor": "white",
            "gridwidth": 2,
            "linecolor": "white",
            "showbackground": true,
            "ticks": "",
            "zerolinecolor": "white"
           },
           "yaxis": {
            "backgroundcolor": "#E5ECF6",
            "gridcolor": "white",
            "gridwidth": 2,
            "linecolor": "white",
            "showbackground": true,
            "ticks": "",
            "zerolinecolor": "white"
           },
           "zaxis": {
            "backgroundcolor": "#E5ECF6",
            "gridcolor": "white",
            "gridwidth": 2,
            "linecolor": "white",
            "showbackground": true,
            "ticks": "",
            "zerolinecolor": "white"
           }
          },
          "shapedefaults": {
           "line": {
            "color": "#2a3f5f"
           }
          },
          "ternary": {
           "aaxis": {
            "gridcolor": "white",
            "linecolor": "white",
            "ticks": ""
           },
           "baxis": {
            "gridcolor": "white",
            "linecolor": "white",
            "ticks": ""
           },
           "bgcolor": "#E5ECF6",
           "caxis": {
            "gridcolor": "white",
            "linecolor": "white",
            "ticks": ""
           }
          },
          "title": {
           "x": 0.05
          },
          "xaxis": {
           "automargin": true,
           "gridcolor": "white",
           "linecolor": "white",
           "ticks": "",
           "zerolinecolor": "white",
           "zerolinewidth": 2
          },
          "yaxis": {
           "automargin": true,
           "gridcolor": "white",
           "linecolor": "white",
           "ticks": "",
           "zerolinecolor": "white",
           "zerolinewidth": 2
          }
         }
        },
        "title": {
         "text": "Costs By Source"
        }
       }
      },
      "text/html": [
       "<div>\n",
       "        \n",
       "        \n",
       "            <div id=\"4370e768-bd71-4993-9f8d-afd53cc1403b\" class=\"plotly-graph-div\" style=\"height:525px; width:100%;\"></div>\n",
       "            <script type=\"text/javascript\">\n",
       "                require([\"plotly\"], function(Plotly) {\n",
       "                    window.PLOTLYENV=window.PLOTLYENV || {};\n",
       "                    \n",
       "                if (document.getElementById(\"4370e768-bd71-4993-9f8d-afd53cc1403b\")) {\n",
       "                    Plotly.newPlot(\n",
       "                        '4370e768-bd71-4993-9f8d-afd53cc1403b',\n",
       "                        [{\"labels\": [1, 2, 3, 4, 5, 9, 10], \"marker\": {\"colors\": [\"#3B8CDC\", \"#4DB8F8\", \"#3fc5f0\", \"#68DAF5\", \"#3276CE\", \"#204BA2\", \"#68DAF5\"]}, \"type\": \"pie\", \"values\": [20833.26999999999, 42806.03999999999, 141321.62999999995, 61073.599999999984, 51757.100000000006, 5517.489999999998, 5822.489999999999]}],\n",
       "                        {\"font\": {\"family\": \"Helvetica Neue\", \"size\": 18}, \"template\": {\"data\": {\"bar\": [{\"error_x\": {\"color\": \"#2a3f5f\"}, \"error_y\": {\"color\": \"#2a3f5f\"}, \"marker\": {\"line\": {\"color\": \"#E5ECF6\", \"width\": 0.5}}, \"type\": \"bar\"}], \"barpolar\": [{\"marker\": {\"line\": {\"color\": \"#E5ECF6\", \"width\": 0.5}}, \"type\": \"barpolar\"}], \"carpet\": [{\"aaxis\": {\"endlinecolor\": \"#2a3f5f\", \"gridcolor\": \"white\", \"linecolor\": \"white\", \"minorgridcolor\": \"white\", \"startlinecolor\": \"#2a3f5f\"}, \"baxis\": {\"endlinecolor\": \"#2a3f5f\", \"gridcolor\": \"white\", \"linecolor\": \"white\", \"minorgridcolor\": \"white\", \"startlinecolor\": \"#2a3f5f\"}, \"type\": \"carpet\"}], \"choropleth\": [{\"colorbar\": {\"outlinewidth\": 0, \"ticks\": \"\"}, \"type\": \"choropleth\"}], \"contour\": [{\"colorbar\": {\"outlinewidth\": 0, \"ticks\": \"\"}, \"colorscale\": [[0.0, \"#0d0887\"], [0.1111111111111111, \"#46039f\"], [0.2222222222222222, \"#7201a8\"], [0.3333333333333333, \"#9c179e\"], [0.4444444444444444, \"#bd3786\"], [0.5555555555555556, \"#d8576b\"], [0.6666666666666666, \"#ed7953\"], [0.7777777777777778, \"#fb9f3a\"], [0.8888888888888888, \"#fdca26\"], [1.0, \"#f0f921\"]], \"type\": \"contour\"}], \"contourcarpet\": [{\"colorbar\": {\"outlinewidth\": 0, \"ticks\": \"\"}, \"type\": \"contourcarpet\"}], \"heatmap\": [{\"colorbar\": {\"outlinewidth\": 0, \"ticks\": \"\"}, \"colorscale\": [[0.0, \"#0d0887\"], [0.1111111111111111, \"#46039f\"], [0.2222222222222222, \"#7201a8\"], [0.3333333333333333, \"#9c179e\"], [0.4444444444444444, \"#bd3786\"], [0.5555555555555556, \"#d8576b\"], [0.6666666666666666, \"#ed7953\"], [0.7777777777777778, \"#fb9f3a\"], [0.8888888888888888, \"#fdca26\"], [1.0, \"#f0f921\"]], \"type\": \"heatmap\"}], \"heatmapgl\": [{\"colorbar\": {\"outlinewidth\": 0, \"ticks\": \"\"}, \"colorscale\": [[0.0, \"#0d0887\"], [0.1111111111111111, \"#46039f\"], [0.2222222222222222, \"#7201a8\"], [0.3333333333333333, \"#9c179e\"], [0.4444444444444444, \"#bd3786\"], [0.5555555555555556, \"#d8576b\"], [0.6666666666666666, \"#ed7953\"], [0.7777777777777778, \"#fb9f3a\"], [0.8888888888888888, \"#fdca26\"], [1.0, \"#f0f921\"]], \"type\": \"heatmapgl\"}], \"histogram\": [{\"marker\": {\"colorbar\": {\"outlinewidth\": 0, \"ticks\": \"\"}}, \"type\": \"histogram\"}], \"histogram2d\": [{\"colorbar\": {\"outlinewidth\": 0, \"ticks\": \"\"}, \"colorscale\": [[0.0, \"#0d0887\"], [0.1111111111111111, \"#46039f\"], [0.2222222222222222, \"#7201a8\"], [0.3333333333333333, \"#9c179e\"], [0.4444444444444444, \"#bd3786\"], [0.5555555555555556, \"#d8576b\"], [0.6666666666666666, \"#ed7953\"], [0.7777777777777778, \"#fb9f3a\"], [0.8888888888888888, \"#fdca26\"], [1.0, \"#f0f921\"]], \"type\": \"histogram2d\"}], \"histogram2dcontour\": [{\"colorbar\": {\"outlinewidth\": 0, \"ticks\": \"\"}, \"colorscale\": [[0.0, \"#0d0887\"], [0.1111111111111111, \"#46039f\"], [0.2222222222222222, \"#7201a8\"], [0.3333333333333333, \"#9c179e\"], [0.4444444444444444, \"#bd3786\"], [0.5555555555555556, \"#d8576b\"], [0.6666666666666666, \"#ed7953\"], [0.7777777777777778, \"#fb9f3a\"], [0.8888888888888888, \"#fdca26\"], [1.0, \"#f0f921\"]], \"type\": \"histogram2dcontour\"}], \"mesh3d\": [{\"colorbar\": {\"outlinewidth\": 0, \"ticks\": \"\"}, \"type\": \"mesh3d\"}], \"parcoords\": [{\"line\": {\"colorbar\": {\"outlinewidth\": 0, \"ticks\": \"\"}}, \"type\": \"parcoords\"}], \"scatter\": [{\"marker\": {\"colorbar\": {\"outlinewidth\": 0, \"ticks\": \"\"}}, \"type\": \"scatter\"}], \"scatter3d\": [{\"line\": {\"colorbar\": {\"outlinewidth\": 0, \"ticks\": \"\"}}, \"marker\": {\"colorbar\": {\"outlinewidth\": 0, \"ticks\": \"\"}}, \"type\": \"scatter3d\"}], \"scattercarpet\": [{\"marker\": {\"colorbar\": {\"outlinewidth\": 0, \"ticks\": \"\"}}, \"type\": \"scattercarpet\"}], \"scattergeo\": [{\"marker\": {\"colorbar\": {\"outlinewidth\": 0, \"ticks\": \"\"}}, \"type\": \"scattergeo\"}], \"scattergl\": [{\"marker\": {\"colorbar\": {\"outlinewidth\": 0, \"ticks\": \"\"}}, \"type\": \"scattergl\"}], \"scattermapbox\": [{\"marker\": {\"colorbar\": {\"outlinewidth\": 0, \"ticks\": \"\"}}, \"type\": \"scattermapbox\"}], \"scatterpolar\": [{\"marker\": {\"colorbar\": {\"outlinewidth\": 0, \"ticks\": \"\"}}, \"type\": \"scatterpolar\"}], \"scatterpolargl\": [{\"marker\": {\"colorbar\": {\"outlinewidth\": 0, \"ticks\": \"\"}}, \"type\": \"scatterpolargl\"}], \"scatterternary\": [{\"marker\": {\"colorbar\": {\"outlinewidth\": 0, \"ticks\": \"\"}}, \"type\": \"scatterternary\"}], \"surface\": [{\"colorbar\": {\"outlinewidth\": 0, \"ticks\": \"\"}, \"colorscale\": [[0.0, \"#0d0887\"], [0.1111111111111111, \"#46039f\"], [0.2222222222222222, \"#7201a8\"], [0.3333333333333333, \"#9c179e\"], [0.4444444444444444, \"#bd3786\"], [0.5555555555555556, \"#d8576b\"], [0.6666666666666666, \"#ed7953\"], [0.7777777777777778, \"#fb9f3a\"], [0.8888888888888888, \"#fdca26\"], [1.0, \"#f0f921\"]], \"type\": \"surface\"}], \"table\": [{\"cells\": {\"fill\": {\"color\": \"#EBF0F8\"}, \"line\": {\"color\": \"white\"}}, \"header\": {\"fill\": {\"color\": \"#C8D4E3\"}, \"line\": {\"color\": \"white\"}}, \"type\": \"table\"}]}, \"layout\": {\"annotationdefaults\": {\"arrowcolor\": \"#2a3f5f\", \"arrowhead\": 0, \"arrowwidth\": 1}, \"colorscale\": {\"diverging\": [[0, \"#8e0152\"], [0.1, \"#c51b7d\"], [0.2, \"#de77ae\"], [0.3, \"#f1b6da\"], [0.4, \"#fde0ef\"], [0.5, \"#f7f7f7\"], [0.6, \"#e6f5d0\"], [0.7, \"#b8e186\"], [0.8, \"#7fbc41\"], [0.9, \"#4d9221\"], [1, \"#276419\"]], \"sequential\": [[0.0, \"#0d0887\"], [0.1111111111111111, \"#46039f\"], [0.2222222222222222, \"#7201a8\"], [0.3333333333333333, \"#9c179e\"], [0.4444444444444444, \"#bd3786\"], [0.5555555555555556, \"#d8576b\"], [0.6666666666666666, \"#ed7953\"], [0.7777777777777778, \"#fb9f3a\"], [0.8888888888888888, \"#fdca26\"], [1.0, \"#f0f921\"]], \"sequentialminus\": [[0.0, \"#0d0887\"], [0.1111111111111111, \"#46039f\"], [0.2222222222222222, \"#7201a8\"], [0.3333333333333333, \"#9c179e\"], [0.4444444444444444, \"#bd3786\"], [0.5555555555555556, \"#d8576b\"], [0.6666666666666666, \"#ed7953\"], [0.7777777777777778, \"#fb9f3a\"], [0.8888888888888888, \"#fdca26\"], [1.0, \"#f0f921\"]]}, \"colorway\": [\"#636efa\", \"#EF553B\", \"#00cc96\", \"#ab63fa\", \"#FFA15A\", \"#19d3f3\", \"#FF6692\", \"#B6E880\", \"#FF97FF\", \"#FECB52\"], \"font\": {\"color\": \"#2a3f5f\"}, \"geo\": {\"bgcolor\": \"white\", \"lakecolor\": \"white\", \"landcolor\": \"#E5ECF6\", \"showlakes\": true, \"showland\": true, \"subunitcolor\": \"white\"}, \"hoverlabel\": {\"align\": \"left\"}, \"hovermode\": \"closest\", \"mapbox\": {\"style\": \"light\"}, \"paper_bgcolor\": \"white\", \"plot_bgcolor\": \"#E5ECF6\", \"polar\": {\"angularaxis\": {\"gridcolor\": \"white\", \"linecolor\": \"white\", \"ticks\": \"\"}, \"bgcolor\": \"#E5ECF6\", \"radialaxis\": {\"gridcolor\": \"white\", \"linecolor\": \"white\", \"ticks\": \"\"}}, \"scene\": {\"xaxis\": {\"backgroundcolor\": \"#E5ECF6\", \"gridcolor\": \"white\", \"gridwidth\": 2, \"linecolor\": \"white\", \"showbackground\": true, \"ticks\": \"\", \"zerolinecolor\": \"white\"}, \"yaxis\": {\"backgroundcolor\": \"#E5ECF6\", \"gridcolor\": \"white\", \"gridwidth\": 2, \"linecolor\": \"white\", \"showbackground\": true, \"ticks\": \"\", \"zerolinecolor\": \"white\"}, \"zaxis\": {\"backgroundcolor\": \"#E5ECF6\", \"gridcolor\": \"white\", \"gridwidth\": 2, \"linecolor\": \"white\", \"showbackground\": true, \"ticks\": \"\", \"zerolinecolor\": \"white\"}}, \"shapedefaults\": {\"line\": {\"color\": \"#2a3f5f\"}}, \"ternary\": {\"aaxis\": {\"gridcolor\": \"white\", \"linecolor\": \"white\", \"ticks\": \"\"}, \"baxis\": {\"gridcolor\": \"white\", \"linecolor\": \"white\", \"ticks\": \"\"}, \"bgcolor\": \"#E5ECF6\", \"caxis\": {\"gridcolor\": \"white\", \"linecolor\": \"white\", \"ticks\": \"\"}}, \"title\": {\"x\": 0.05}, \"xaxis\": {\"automargin\": true, \"gridcolor\": \"white\", \"linecolor\": \"white\", \"ticks\": \"\", \"zerolinecolor\": \"white\", \"zerolinewidth\": 2}, \"yaxis\": {\"automargin\": true, \"gridcolor\": \"white\", \"linecolor\": \"white\", \"ticks\": \"\", \"zerolinecolor\": \"white\", \"zerolinewidth\": 2}}}, \"title\": {\"text\": \"Costs By Source\"}},\n",
       "                        {\"responsive\": true}\n",
       "                    ).then(function(){\n",
       "                            \n",
       "var gd = document.getElementById('4370e768-bd71-4993-9f8d-afd53cc1403b');\n",
       "var x = new MutationObserver(function (mutations, observer) {{\n",
       "        var display = window.getComputedStyle(gd).display;\n",
       "        if (!display || display === 'none') {{\n",
       "            console.log([gd, 'removed!']);\n",
       "            Plotly.purge(gd);\n",
       "            observer.disconnect();\n",
       "        }}\n",
       "}});\n",
       "\n",
       "// Listen for the removal of the full notebook cells\n",
       "var notebookContainer = gd.closest('#notebook-container');\n",
       "if (notebookContainer) {{\n",
       "    x.observe(notebookContainer, {childList: true});\n",
       "}}\n",
       "\n",
       "// Listen for the clearing of the current output cell\n",
       "var outputEl = gd.closest('.output');\n",
       "if (outputEl) {{\n",
       "    x.observe(outputEl, {childList: true});\n",
       "}}\n",
       "\n",
       "                        })\n",
       "                };\n",
       "                });\n",
       "            </script>\n",
       "        </div>"
      ]
     },
     "metadata": {},
     "output_type": "display_data"
    }
   ],
   "source": [
    "from plotly import graph_objects as go\n",
    "\n",
    "name = costs_per_source['source_id']\n",
    "values = costs_per_source['cost']\n",
    "colors=[\"#3B8CDC\",\"#4DB8F8\", \"#3fc5f0\", \"#68DAF5\", \"#3276CE\", \"#204BA2\", \"#68DAF5\"]\n",
    "\n",
    "fig = go.Figure(data=[go.Pie(labels=name, values=values)])\n",
    "fig.update_layout(\n",
    "    title=\"Costs By Source\",\n",
    "    font=dict(\n",
    "        family=\"Helvetica Neue\",\n",
    "        size=18\n",
    "    ))\n",
    "fig.update_traces(marker=dict(colors=colors))\n",
    "fig.show()"
   ]
  },
  {
   "cell_type": "markdown",
   "metadata": {},
   "source": [
    "На третий источник приходится чуть менее половины всех затрат."
   ]
  },
  {
   "cell_type": "markdown",
   "metadata": {},
   "source": [
    "## Затраты по месяцам"
   ]
  },
  {
   "cell_type": "code",
   "execution_count": 544,
   "metadata": {},
   "outputs": [
    {
     "data": {
      "text/html": [
       "<div>\n",
       "<style scoped>\n",
       "    .dataframe tbody tr th:only-of-type {\n",
       "        vertical-align: middle;\n",
       "    }\n",
       "\n",
       "    .dataframe tbody tr th {\n",
       "        vertical-align: top;\n",
       "    }\n",
       "\n",
       "    .dataframe thead th {\n",
       "        text-align: right;\n",
       "    }\n",
       "</style>\n",
       "<table border=\"1\" class=\"dataframe\">\n",
       "  <thead>\n",
       "    <tr style=\"text-align: right;\">\n",
       "      <th></th>\n",
       "      <th>month</th>\n",
       "      <th>costs</th>\n",
       "    </tr>\n",
       "  </thead>\n",
       "  <tbody>\n",
       "    <tr>\n",
       "      <td>0</td>\n",
       "      <td>2017-06-01</td>\n",
       "      <td>18015.00</td>\n",
       "    </tr>\n",
       "    <tr>\n",
       "      <td>1</td>\n",
       "      <td>2017-07-01</td>\n",
       "      <td>18240.59</td>\n",
       "    </tr>\n",
       "    <tr>\n",
       "      <td>2</td>\n",
       "      <td>2017-08-01</td>\n",
       "      <td>14790.54</td>\n",
       "    </tr>\n",
       "    <tr>\n",
       "      <td>3</td>\n",
       "      <td>2017-09-01</td>\n",
       "      <td>24368.91</td>\n",
       "    </tr>\n",
       "    <tr>\n",
       "      <td>4</td>\n",
       "      <td>2017-10-01</td>\n",
       "      <td>36322.88</td>\n",
       "    </tr>\n",
       "    <tr>\n",
       "      <td>5</td>\n",
       "      <td>2017-11-01</td>\n",
       "      <td>37907.88</td>\n",
       "    </tr>\n",
       "    <tr>\n",
       "      <td>6</td>\n",
       "      <td>2017-12-01</td>\n",
       "      <td>38315.35</td>\n",
       "    </tr>\n",
       "    <tr>\n",
       "      <td>7</td>\n",
       "      <td>2018-01-01</td>\n",
       "      <td>33518.52</td>\n",
       "    </tr>\n",
       "    <tr>\n",
       "      <td>8</td>\n",
       "      <td>2018-02-01</td>\n",
       "      <td>32723.03</td>\n",
       "    </tr>\n",
       "    <tr>\n",
       "      <td>9</td>\n",
       "      <td>2018-03-01</td>\n",
       "      <td>30415.27</td>\n",
       "    </tr>\n",
       "    <tr>\n",
       "      <td>10</td>\n",
       "      <td>2018-04-01</td>\n",
       "      <td>22289.38</td>\n",
       "    </tr>\n",
       "    <tr>\n",
       "      <td>11</td>\n",
       "      <td>2018-05-01</td>\n",
       "      <td>22224.27</td>\n",
       "    </tr>\n",
       "  </tbody>\n",
       "</table>\n",
       "</div>"
      ],
      "text/plain": [
       "        month     costs\n",
       "0  2017-06-01  18015.00\n",
       "1  2017-07-01  18240.59\n",
       "2  2017-08-01  14790.54\n",
       "3  2017-09-01  24368.91\n",
       "4  2017-10-01  36322.88\n",
       "5  2017-11-01  37907.88\n",
       "6  2017-12-01  38315.35\n",
       "7  2018-01-01  33518.52\n",
       "8  2018-02-01  32723.03\n",
       "9  2018-03-01  30415.27\n",
       "10 2018-04-01  22289.38\n",
       "11 2018-05-01  22224.27"
      ]
     },
     "execution_count": 544,
     "metadata": {},
     "output_type": "execute_result"
    }
   ],
   "source": [
    "monthly_costs = costs.groupby('month')['costs'].sum().reset_index()\n",
    "monthly_costs"
   ]
  },
  {
   "cell_type": "code",
   "execution_count": 545,
   "metadata": {},
   "outputs": [
    {
     "data": {
      "image/png": "[encoded data removed]",
      "text/plain": [
       "<Figure size 1080x360 with 1 Axes>"
      ]
     },
     "metadata": {},
     "output_type": "display_data"
    }
   ],
   "source": [
    "#monthly_costs.plot(grid=True)\n",
    "monthly_costs['month_x'] = monthly_costs['month'].astype('str')\n",
    "\n",
    "plt.figure(figsize=(15, 5))\n",
    "plt.title('Monthly Costs', fontsize=20)\n",
    "sns.barplot(x='month_x', y='costs', data=monthly_costs, color=\"#5edfff\", label=\"line\")\n",
    "sns.despine(left=True)\n",
    "plt.xlabel('')\n",
    "plt.ylabel('costs', fontsize=14)\n",
    "plt.xticks(rotation=30)\n",
    "\n",
    "plt.show()"
   ]
  },
  {
   "cell_type": "markdown",
   "metadata": {},
   "source": [
    "По графику видно, что расходы на маркетинг коррелируют с тем, сколько покупают за период."
   ]
  },
  {
   "cell_type": "markdown",
   "metadata": {},
   "source": [
    "## Стоимость привлечения одного покупателя из каждого источника"
   ]
  },
  {
   "cell_type": "markdown",
   "metadata": {},
   "source": [
    "Чтобы найти стоимость привлечения покупателя из каждого источника, необходимо получить таблицу, содержащую информацию о первом заказе каждого пользователя и посчитать количество `uid` совершивших покупку."
   ]
  },
  {
   "cell_type": "code",
   "execution_count": 546,
   "metadata": {},
   "outputs": [
    {
     "data": {
      "text/html": [
       "<div>\n",
       "<style scoped>\n",
       "    .dataframe tbody tr th:only-of-type {\n",
       "        vertical-align: middle;\n",
       "    }\n",
       "\n",
       "    .dataframe tbody tr th {\n",
       "        vertical-align: top;\n",
       "    }\n",
       "\n",
       "    .dataframe thead th {\n",
       "        text-align: right;\n",
       "    }\n",
       "</style>\n",
       "<table border=\"1\" class=\"dataframe\">\n",
       "  <thead>\n",
       "    <tr style=\"text-align: right;\">\n",
       "      <th></th>\n",
       "      <th>buy_ts</th>\n",
       "      <th>revenue</th>\n",
       "      <th>uid</th>\n",
       "      <th>first_ts_datetime</th>\n",
       "      <th>start_to_buy_sec</th>\n",
       "      <th>first_order_datetime</th>\n",
       "      <th>order_month</th>\n",
       "      <th>first_order_month</th>\n",
       "    </tr>\n",
       "  </thead>\n",
       "  <tbody>\n",
       "    <tr>\n",
       "      <td>0</td>\n",
       "      <td>2017-06-01 00:10:00</td>\n",
       "      <td>17.00</td>\n",
       "      <td>10329302124590727494</td>\n",
       "      <td>2017-06-01 00:09:00</td>\n",
       "      <td>60</td>\n",
       "      <td>2017-06-01 00:10:00</td>\n",
       "      <td>2017-06-01</td>\n",
       "      <td>2017-06-01</td>\n",
       "    </tr>\n",
       "    <tr>\n",
       "      <td>1</td>\n",
       "      <td>2017-06-01 00:25:00</td>\n",
       "      <td>0.55</td>\n",
       "      <td>11627257723692907447</td>\n",
       "      <td>2017-06-01 00:14:00</td>\n",
       "      <td>660</td>\n",
       "      <td>2017-06-01 00:25:00</td>\n",
       "      <td>2017-06-01</td>\n",
       "      <td>2017-06-01</td>\n",
       "    </tr>\n",
       "    <tr>\n",
       "      <td>2</td>\n",
       "      <td>2017-06-01 00:27:00</td>\n",
       "      <td>0.37</td>\n",
       "      <td>17903680561304213844</td>\n",
       "      <td>2017-06-01 00:25:00</td>\n",
       "      <td>120</td>\n",
       "      <td>2017-06-01 00:27:00</td>\n",
       "      <td>2017-06-01</td>\n",
       "      <td>2017-06-01</td>\n",
       "    </tr>\n",
       "    <tr>\n",
       "      <td>3</td>\n",
       "      <td>2017-06-01 00:29:00</td>\n",
       "      <td>0.55</td>\n",
       "      <td>16109239769442553005</td>\n",
       "      <td>2017-06-01 00:14:00</td>\n",
       "      <td>900</td>\n",
       "      <td>2017-06-01 00:29:00</td>\n",
       "      <td>2017-06-01</td>\n",
       "      <td>2017-06-01</td>\n",
       "    </tr>\n",
       "    <tr>\n",
       "      <td>4</td>\n",
       "      <td>2017-06-01 07:58:00</td>\n",
       "      <td>0.37</td>\n",
       "      <td>14200605875248379450</td>\n",
       "      <td>2017-06-01 07:31:00</td>\n",
       "      <td>1620</td>\n",
       "      <td>2017-06-01 07:58:00</td>\n",
       "      <td>2017-06-01</td>\n",
       "      <td>2017-06-01</td>\n",
       "    </tr>\n",
       "  </tbody>\n",
       "</table>\n",
       "</div>"
      ],
      "text/plain": [
       "               buy_ts  revenue                   uid   first_ts_datetime  \\\n",
       "0 2017-06-01 00:10:00    17.00  10329302124590727494 2017-06-01 00:09:00   \n",
       "1 2017-06-01 00:25:00     0.55  11627257723692907447 2017-06-01 00:14:00   \n",
       "2 2017-06-01 00:27:00     0.37  17903680561304213844 2017-06-01 00:25:00   \n",
       "3 2017-06-01 00:29:00     0.55  16109239769442553005 2017-06-01 00:14:00   \n",
       "4 2017-06-01 07:58:00     0.37  14200605875248379450 2017-06-01 07:31:00   \n",
       "\n",
       "   start_to_buy_sec first_order_datetime order_month first_order_month  \n",
       "0                60  2017-06-01 00:10:00  2017-06-01        2017-06-01  \n",
       "1               660  2017-06-01 00:25:00  2017-06-01        2017-06-01  \n",
       "2               120  2017-06-01 00:27:00  2017-06-01        2017-06-01  \n",
       "3               900  2017-06-01 00:29:00  2017-06-01        2017-06-01  \n",
       "4              1620  2017-06-01 07:58:00  2017-06-01        2017-06-01  "
      ]
     },
     "execution_count": 546,
     "metadata": {},
     "output_type": "execute_result"
    }
   ],
   "source": [
    "orders.head()\n",
    "#first_orders.head()"
   ]
  },
  {
   "cell_type": "markdown",
   "metadata": {},
   "source": [
    "Получим таблицу с первыми визитами пользователей по источникам"
   ]
  },
  {
   "cell_type": "code",
   "execution_count": 547,
   "metadata": {},
   "outputs": [
    {
     "data": {
      "text/html": [
       "<div>\n",
       "<style scoped>\n",
       "    .dataframe tbody tr th:only-of-type {\n",
       "        vertical-align: middle;\n",
       "    }\n",
       "\n",
       "    .dataframe tbody tr th {\n",
       "        vertical-align: top;\n",
       "    }\n",
       "\n",
       "    .dataframe thead th {\n",
       "        text-align: right;\n",
       "    }\n",
       "</style>\n",
       "<table border=\"1\" class=\"dataframe\">\n",
       "  <thead>\n",
       "    <tr style=\"text-align: right;\">\n",
       "      <th></th>\n",
       "      <th>source_id</th>\n",
       "      <th>first_ts_month</th>\n",
       "      <th>uid</th>\n",
       "    </tr>\n",
       "  </thead>\n",
       "  <tbody>\n",
       "    <tr>\n",
       "      <td>0</td>\n",
       "      <td>4</td>\n",
       "      <td>2017-12-01</td>\n",
       "      <td>16879256277535980062</td>\n",
       "    </tr>\n",
       "    <tr>\n",
       "      <td>1</td>\n",
       "      <td>2</td>\n",
       "      <td>2018-02-01</td>\n",
       "      <td>104060357244891740</td>\n",
       "    </tr>\n",
       "    <tr>\n",
       "      <td>2</td>\n",
       "      <td>5</td>\n",
       "      <td>2017-07-01</td>\n",
       "      <td>7459035603376831527</td>\n",
       "    </tr>\n",
       "    <tr>\n",
       "      <td>3</td>\n",
       "      <td>9</td>\n",
       "      <td>2018-03-01</td>\n",
       "      <td>16174680259334210214</td>\n",
       "    </tr>\n",
       "    <tr>\n",
       "      <td>4</td>\n",
       "      <td>3</td>\n",
       "      <td>2017-12-01</td>\n",
       "      <td>9969694820036681168</td>\n",
       "    </tr>\n",
       "  </tbody>\n",
       "</table>\n",
       "</div>"
      ],
      "text/plain": [
       "   source_id first_ts_month                   uid\n",
       "0          4     2017-12-01  16879256277535980062\n",
       "1          2     2018-02-01    104060357244891740\n",
       "2          5     2017-07-01   7459035603376831527\n",
       "3          9     2018-03-01  16174680259334210214\n",
       "4          3     2017-12-01   9969694820036681168"
      ]
     },
     "execution_count": 547,
     "metadata": {},
     "output_type": "execute_result"
    }
   ],
   "source": [
    "visits_uid = visits[['source_id', 'first_ts_month', 'uid']]\n",
    "visits_uid.head()"
   ]
  },
  {
   "cell_type": "markdown",
   "metadata": {},
   "source": [
    "Присоединим к ней таблицу с первыми заказами по `uid`"
   ]
  },
  {
   "cell_type": "code",
   "execution_count": 548,
   "metadata": {},
   "outputs": [
    {
     "data": {
      "text/html": [
       "<div>\n",
       "<style scoped>\n",
       "    .dataframe tbody tr th:only-of-type {\n",
       "        vertical-align: middle;\n",
       "    }\n",
       "\n",
       "    .dataframe tbody tr th {\n",
       "        vertical-align: top;\n",
       "    }\n",
       "\n",
       "    .dataframe thead th {\n",
       "        text-align: right;\n",
       "    }\n",
       "</style>\n",
       "<table border=\"1\" class=\"dataframe\">\n",
       "  <thead>\n",
       "    <tr style=\"text-align: right;\">\n",
       "      <th></th>\n",
       "      <th>source_id</th>\n",
       "      <th>first_ts_month</th>\n",
       "      <th>uid</th>\n",
       "      <th>first_order_month</th>\n",
       "    </tr>\n",
       "  </thead>\n",
       "  <tbody>\n",
       "    <tr>\n",
       "      <td>3</td>\n",
       "      <td>9</td>\n",
       "      <td>2018-03-01</td>\n",
       "      <td>16174680259334210214</td>\n",
       "      <td>2018-03-01</td>\n",
       "    </tr>\n",
       "    <tr>\n",
       "      <td>5</td>\n",
       "      <td>5</td>\n",
       "      <td>2017-09-01</td>\n",
       "      <td>16007536194108375387</td>\n",
       "      <td>2017-09-01</td>\n",
       "    </tr>\n",
       "    <tr>\n",
       "      <td>12</td>\n",
       "      <td>4</td>\n",
       "      <td>2017-06-01</td>\n",
       "      <td>8056418121947262981</td>\n",
       "      <td>2017-06-01</td>\n",
       "    </tr>\n",
       "    <tr>\n",
       "      <td>15</td>\n",
       "      <td>2</td>\n",
       "      <td>2018-02-01</td>\n",
       "      <td>18188358787673499603</td>\n",
       "      <td>2018-02-01</td>\n",
       "    </tr>\n",
       "    <tr>\n",
       "      <td>25</td>\n",
       "      <td>4</td>\n",
       "      <td>2017-09-01</td>\n",
       "      <td>2307401184189569202</td>\n",
       "      <td>2017-09-01</td>\n",
       "    </tr>\n",
       "  </tbody>\n",
       "</table>\n",
       "</div>"
      ],
      "text/plain": [
       "    source_id first_ts_month                   uid first_order_month\n",
       "3           9     2018-03-01  16174680259334210214        2018-03-01\n",
       "5           5     2017-09-01  16007536194108375387        2017-09-01\n",
       "12          4     2017-06-01   8056418121947262981        2017-06-01\n",
       "15          2     2018-02-01  18188358787673499603        2018-02-01\n",
       "25          4     2017-09-01   2307401184189569202        2017-09-01"
      ]
     },
     "execution_count": 548,
     "metadata": {},
     "output_type": "execute_result"
    }
   ],
   "source": [
    "visits_orders_uid = pd.merge(visits_uid, first_orders, on='uid', how='left')\n",
    "\n",
    "# Так как нас интересуют только пользователи совершившие заказ, отбросим остальных\n",
    "visits_orders_uid = visits_orders_uid.dropna()\n",
    "visits_orders_uid.head()"
   ]
  },
  {
   "cell_type": "markdown",
   "metadata": {},
   "source": [
    "Сгруппируем таблицу по источнику и первому визиту, посчитаем количество уникальных покупателей"
   ]
  },
  {
   "cell_type": "code",
   "execution_count": 549,
   "metadata": {},
   "outputs": [
    {
     "data": {
      "text/html": [
       "<div>\n",
       "<style scoped>\n",
       "    .dataframe tbody tr th:only-of-type {\n",
       "        vertical-align: middle;\n",
       "    }\n",
       "\n",
       "    .dataframe tbody tr th {\n",
       "        vertical-align: top;\n",
       "    }\n",
       "\n",
       "    .dataframe thead th {\n",
       "        text-align: right;\n",
       "    }\n",
       "</style>\n",
       "<table border=\"1\" class=\"dataframe\">\n",
       "  <thead>\n",
       "    <tr style=\"text-align: right;\">\n",
       "      <th></th>\n",
       "      <th>source_id</th>\n",
       "      <th>group_month</th>\n",
       "      <th>n_buyers</th>\n",
       "      <th>n_orders</th>\n",
       "    </tr>\n",
       "  </thead>\n",
       "  <tbody>\n",
       "    <tr>\n",
       "      <td>0</td>\n",
       "      <td>1</td>\n",
       "      <td>2017-06-01</td>\n",
       "      <td>706</td>\n",
       "      <td>4643</td>\n",
       "    </tr>\n",
       "    <tr>\n",
       "      <td>1</td>\n",
       "      <td>1</td>\n",
       "      <td>2017-07-01</td>\n",
       "      <td>565</td>\n",
       "      <td>1428</td>\n",
       "    </tr>\n",
       "    <tr>\n",
       "      <td>2</td>\n",
       "      <td>1</td>\n",
       "      <td>2017-08-01</td>\n",
       "      <td>368</td>\n",
       "      <td>829</td>\n",
       "    </tr>\n",
       "    <tr>\n",
       "      <td>3</td>\n",
       "      <td>1</td>\n",
       "      <td>2017-09-01</td>\n",
       "      <td>650</td>\n",
       "      <td>1228</td>\n",
       "    </tr>\n",
       "    <tr>\n",
       "      <td>4</td>\n",
       "      <td>1</td>\n",
       "      <td>2017-10-01</td>\n",
       "      <td>911</td>\n",
       "      <td>1508</td>\n",
       "    </tr>\n",
       "  </tbody>\n",
       "</table>\n",
       "</div>"
      ],
      "text/plain": [
       "   source_id group_month  n_buyers  n_orders\n",
       "0          1  2017-06-01       706      4643\n",
       "1          1  2017-07-01       565      1428\n",
       "2          1  2017-08-01       368       829\n",
       "3          1  2017-09-01       650      1228\n",
       "4          1  2017-10-01       911      1508"
      ]
     },
     "execution_count": 549,
     "metadata": {},
     "output_type": "execute_result"
    }
   ],
   "source": [
    "visits_by_source = (visits_orders_uid\n",
    "    .groupby(['source_id', 'first_ts_month'], as_index=False)\n",
    "    .agg({'uid': 'nunique', 'first_order_month': 'count'})\n",
    ")\n",
    "visits_by_source.columns = ['source_id', 'group_month', 'n_buyers', 'n_orders']\n",
    "visits_by_source.head()"
   ]
  },
  {
   "cell_type": "markdown",
   "metadata": {},
   "source": [
    "Сгруппируем таблицу с затратами по источнику и месяцу"
   ]
  },
  {
   "cell_type": "code",
   "execution_count": 550,
   "metadata": {},
   "outputs": [
    {
     "data": {
      "text/html": [
       "<div>\n",
       "<style scoped>\n",
       "    .dataframe tbody tr th:only-of-type {\n",
       "        vertical-align: middle;\n",
       "    }\n",
       "\n",
       "    .dataframe tbody tr th {\n",
       "        vertical-align: top;\n",
       "    }\n",
       "\n",
       "    .dataframe thead th {\n",
       "        text-align: right;\n",
       "    }\n",
       "</style>\n",
       "<table border=\"1\" class=\"dataframe\">\n",
       "  <thead>\n",
       "    <tr style=\"text-align: right;\">\n",
       "      <th></th>\n",
       "      <th>source_id</th>\n",
       "      <th>group_month</th>\n",
       "      <th>costs</th>\n",
       "    </tr>\n",
       "  </thead>\n",
       "  <tbody>\n",
       "    <tr>\n",
       "      <td>0</td>\n",
       "      <td>1</td>\n",
       "      <td>2017-06-01</td>\n",
       "      <td>1125.61</td>\n",
       "    </tr>\n",
       "    <tr>\n",
       "      <td>1</td>\n",
       "      <td>1</td>\n",
       "      <td>2017-07-01</td>\n",
       "      <td>1072.88</td>\n",
       "    </tr>\n",
       "    <tr>\n",
       "      <td>2</td>\n",
       "      <td>1</td>\n",
       "      <td>2017-08-01</td>\n",
       "      <td>951.81</td>\n",
       "    </tr>\n",
       "    <tr>\n",
       "      <td>3</td>\n",
       "      <td>1</td>\n",
       "      <td>2017-09-01</td>\n",
       "      <td>1502.01</td>\n",
       "    </tr>\n",
       "    <tr>\n",
       "      <td>4</td>\n",
       "      <td>1</td>\n",
       "      <td>2017-10-01</td>\n",
       "      <td>2315.75</td>\n",
       "    </tr>\n",
       "  </tbody>\n",
       "</table>\n",
       "</div>"
      ],
      "text/plain": [
       "   source_id group_month    costs\n",
       "0          1  2017-06-01  1125.61\n",
       "1          1  2017-07-01  1072.88\n",
       "2          1  2017-08-01   951.81\n",
       "3          1  2017-09-01  1502.01\n",
       "4          1  2017-10-01  2315.75"
      ]
     },
     "execution_count": 550,
     "metadata": {},
     "output_type": "execute_result"
    }
   ],
   "source": [
    "costs_by_source = costs.groupby(['source_id', 'month'], as_index=False)['costs'].sum()\n",
    "costs_by_source.columns = ['source_id', 'group_month', 'costs']\n",
    "costs_by_source.head()"
   ]
  },
  {
   "cell_type": "markdown",
   "metadata": {},
   "source": [
    "Присоединим сгруппированную таблицу со стоимостями к таблице с визитами и количеством покупателей"
   ]
  },
  {
   "cell_type": "code",
   "execution_count": 551,
   "metadata": {},
   "outputs": [
    {
     "data": {
      "text/html": [
       "<div>\n",
       "<style scoped>\n",
       "    .dataframe tbody tr th:only-of-type {\n",
       "        vertical-align: middle;\n",
       "    }\n",
       "\n",
       "    .dataframe tbody tr th {\n",
       "        vertical-align: top;\n",
       "    }\n",
       "\n",
       "    .dataframe thead th {\n",
       "        text-align: right;\n",
       "    }\n",
       "</style>\n",
       "<table border=\"1\" class=\"dataframe\">\n",
       "  <thead>\n",
       "    <tr style=\"text-align: right;\">\n",
       "      <th></th>\n",
       "      <th>source_id</th>\n",
       "      <th>group_month</th>\n",
       "      <th>n_buyers</th>\n",
       "      <th>n_orders</th>\n",
       "      <th>costs</th>\n",
       "    </tr>\n",
       "  </thead>\n",
       "  <tbody>\n",
       "    <tr>\n",
       "      <td>7</td>\n",
       "      <td>1</td>\n",
       "      <td>2018-01-01</td>\n",
       "      <td>530</td>\n",
       "      <td>848</td>\n",
       "      <td>2186.18</td>\n",
       "    </tr>\n",
       "    <tr>\n",
       "      <td>8</td>\n",
       "      <td>1</td>\n",
       "      <td>2018-02-01</td>\n",
       "      <td>533</td>\n",
       "      <td>893</td>\n",
       "      <td>2204.48</td>\n",
       "    </tr>\n",
       "    <tr>\n",
       "      <td>9</td>\n",
       "      <td>1</td>\n",
       "      <td>2018-03-01</td>\n",
       "      <td>488</td>\n",
       "      <td>764</td>\n",
       "      <td>1893.09</td>\n",
       "    </tr>\n",
       "    <tr>\n",
       "      <td>10</td>\n",
       "      <td>1</td>\n",
       "      <td>2018-04-01</td>\n",
       "      <td>303</td>\n",
       "      <td>528</td>\n",
       "      <td>1327.49</td>\n",
       "    </tr>\n",
       "    <tr>\n",
       "      <td>11</td>\n",
       "      <td>1</td>\n",
       "      <td>2018-05-01</td>\n",
       "      <td>351</td>\n",
       "      <td>424</td>\n",
       "      <td>1467.61</td>\n",
       "    </tr>\n",
       "  </tbody>\n",
       "</table>\n",
       "</div>"
      ],
      "text/plain": [
       "    source_id group_month  n_buyers  n_orders    costs\n",
       "7           1  2018-01-01       530       848  2186.18\n",
       "8           1  2018-02-01       533       893  2204.48\n",
       "9           1  2018-03-01       488       764  1893.09\n",
       "10          1  2018-04-01       303       528  1327.49\n",
       "11          1  2018-05-01       351       424  1467.61"
      ]
     },
     "execution_count": 551,
     "metadata": {},
     "output_type": "execute_result"
    }
   ],
   "source": [
    "costs_visits_by_source = pd.merge(visits_by_source, costs_by_source, on=['source_id', 'group_month'], how='outer')\n",
    "costs_visits_by_source.head()\n",
    "query_by_source = costs_visits_by_source.query('group_month > \"2017-12-01\"')\n",
    "query_by_source.head()"
   ]
  },
  {
   "cell_type": "markdown",
   "metadata": {},
   "source": [
    "Создадим таблицу, сгруппированную по источнику, с количеством покупателей и затратами на маркетинг. Посчитаем стоимость покупателя за актуальный период (2018)"
   ]
  },
  {
   "cell_type": "markdown",
   "metadata": {},
   "source": [
    "### CAC за 2018 год"
   ]
  },
  {
   "cell_type": "code",
   "execution_count": 552,
   "metadata": {},
   "outputs": [
    {
     "data": {
      "text/html": [
       "<div>\n",
       "<style scoped>\n",
       "    .dataframe tbody tr th:only-of-type {\n",
       "        vertical-align: middle;\n",
       "    }\n",
       "\n",
       "    .dataframe tbody tr th {\n",
       "        vertical-align: top;\n",
       "    }\n",
       "\n",
       "    .dataframe thead th {\n",
       "        text-align: right;\n",
       "    }\n",
       "</style>\n",
       "<table border=\"1\" class=\"dataframe\">\n",
       "  <thead>\n",
       "    <tr style=\"text-align: right;\">\n",
       "      <th></th>\n",
       "      <th>source_id</th>\n",
       "      <th>n_buyers</th>\n",
       "      <th>costs</th>\n",
       "      <th>cac</th>\n",
       "    </tr>\n",
       "  </thead>\n",
       "  <tbody>\n",
       "    <tr>\n",
       "      <td>0</td>\n",
       "      <td>1</td>\n",
       "      <td>2205</td>\n",
       "      <td>9078.85</td>\n",
       "      <td>4.12</td>\n",
       "    </tr>\n",
       "    <tr>\n",
       "      <td>1</td>\n",
       "      <td>2</td>\n",
       "      <td>2161</td>\n",
       "      <td>18258.36</td>\n",
       "      <td>8.45</td>\n",
       "    </tr>\n",
       "    <tr>\n",
       "      <td>2</td>\n",
       "      <td>3</td>\n",
       "      <td>4445</td>\n",
       "      <td>60826.42</td>\n",
       "      <td>13.68</td>\n",
       "    </tr>\n",
       "    <tr>\n",
       "      <td>3</td>\n",
       "      <td>4</td>\n",
       "      <td>4839</td>\n",
       "      <td>26129.32</td>\n",
       "      <td>5.40</td>\n",
       "    </tr>\n",
       "    <tr>\n",
       "      <td>4</td>\n",
       "      <td>5</td>\n",
       "      <td>3254</td>\n",
       "      <td>22143.16</td>\n",
       "      <td>6.80</td>\n",
       "    </tr>\n",
       "    <tr>\n",
       "      <td>5</td>\n",
       "      <td>9</td>\n",
       "      <td>574</td>\n",
       "      <td>2314.61</td>\n",
       "      <td>4.03</td>\n",
       "    </tr>\n",
       "    <tr>\n",
       "      <td>6</td>\n",
       "      <td>10</td>\n",
       "      <td>703</td>\n",
       "      <td>2419.75</td>\n",
       "      <td>3.44</td>\n",
       "    </tr>\n",
       "  </tbody>\n",
       "</table>\n",
       "</div>"
      ],
      "text/plain": [
       "   source_id  n_buyers     costs    cac\n",
       "0          1      2205   9078.85   4.12\n",
       "1          2      2161  18258.36   8.45\n",
       "2          3      4445  60826.42  13.68\n",
       "3          4      4839  26129.32   5.40\n",
       "4          5      3254  22143.16   6.80\n",
       "5          9       574   2314.61   4.03\n",
       "6         10       703   2419.75   3.44"
      ]
     },
     "metadata": {},
     "output_type": "display_data"
    },
    {
     "data": {
      "image/png": "[encoded data removed]",
      "text/plain": [
       "<Figure size 1080x360 with 1 Axes>"
      ]
     },
     "metadata": {},
     "output_type": "display_data"
    }
   ],
   "source": [
    "costs_visits_sum = query_by_source.groupby('source_id').agg({'n_buyers': 'sum', 'costs': 'sum'}).reset_index()\n",
    "costs_visits_sum['cac'] = (costs_visits_sum['costs'] / costs_visits_sum['n_buyers']).round(2)\n",
    "display(costs_visits_sum)\n",
    "\n",
    "plt.figure(figsize=(15, 5))\n",
    "plt.title('CAC 2018', fontsize=20)\n",
    "sns.barplot(x='source_id', y='cac', data=costs_visits_sum, color=\"#5edfff\", label=\"line\")\n",
    "sns.despine(left=True)\n",
    "plt.xlabel('')\n",
    "plt.ylabel('source', fontsize=14)\n",
    "\n",
    "plt.show()"
   ]
  },
  {
   "cell_type": "markdown",
   "metadata": {},
   "source": [
    "### CAC за весь период"
   ]
  },
  {
   "cell_type": "code",
   "execution_count": 553,
   "metadata": {},
   "outputs": [
    {
     "data": {
      "text/html": [
       "<div>\n",
       "<style scoped>\n",
       "    .dataframe tbody tr th:only-of-type {\n",
       "        vertical-align: middle;\n",
       "    }\n",
       "\n",
       "    .dataframe tbody tr th {\n",
       "        vertical-align: top;\n",
       "    }\n",
       "\n",
       "    .dataframe thead th {\n",
       "        text-align: right;\n",
       "    }\n",
       "</style>\n",
       "<table border=\"1\" class=\"dataframe\">\n",
       "  <thead>\n",
       "    <tr style=\"text-align: right;\">\n",
       "      <th></th>\n",
       "      <th>source_id</th>\n",
       "      <th>n_buyers</th>\n",
       "      <th>costs</th>\n",
       "      <th>cac</th>\n",
       "    </tr>\n",
       "  </thead>\n",
       "  <tbody>\n",
       "    <tr>\n",
       "      <td>0</td>\n",
       "      <td>1</td>\n",
       "      <td>7138</td>\n",
       "      <td>20833.27</td>\n",
       "      <td>2.92</td>\n",
       "    </tr>\n",
       "    <tr>\n",
       "      <td>1</td>\n",
       "      <td>2</td>\n",
       "      <td>7305</td>\n",
       "      <td>42806.04</td>\n",
       "      <td>5.86</td>\n",
       "    </tr>\n",
       "    <tr>\n",
       "      <td>2</td>\n",
       "      <td>3</td>\n",
       "      <td>13846</td>\n",
       "      <td>141321.63</td>\n",
       "      <td>10.21</td>\n",
       "    </tr>\n",
       "    <tr>\n",
       "      <td>3</td>\n",
       "      <td>4</td>\n",
       "      <td>14253</td>\n",
       "      <td>61073.60</td>\n",
       "      <td>4.28</td>\n",
       "    </tr>\n",
       "    <tr>\n",
       "      <td>4</td>\n",
       "      <td>5</td>\n",
       "      <td>10156</td>\n",
       "      <td>51757.10</td>\n",
       "      <td>5.10</td>\n",
       "    </tr>\n",
       "    <tr>\n",
       "      <td>5</td>\n",
       "      <td>7</td>\n",
       "      <td>1</td>\n",
       "      <td>0.00</td>\n",
       "      <td>0.00</td>\n",
       "    </tr>\n",
       "    <tr>\n",
       "      <td>6</td>\n",
       "      <td>9</td>\n",
       "      <td>2793</td>\n",
       "      <td>5517.49</td>\n",
       "      <td>1.98</td>\n",
       "    </tr>\n",
       "    <tr>\n",
       "      <td>7</td>\n",
       "      <td>10</td>\n",
       "      <td>1773</td>\n",
       "      <td>5822.49</td>\n",
       "      <td>3.28</td>\n",
       "    </tr>\n",
       "  </tbody>\n",
       "</table>\n",
       "</div>"
      ],
      "text/plain": [
       "   source_id  n_buyers      costs    cac\n",
       "0          1      7138   20833.27   2.92\n",
       "1          2      7305   42806.04   5.86\n",
       "2          3     13846  141321.63  10.21\n",
       "3          4     14253   61073.60   4.28\n",
       "4          5     10156   51757.10   5.10\n",
       "5          7         1       0.00   0.00\n",
       "6          9      2793    5517.49   1.98\n",
       "7         10      1773    5822.49   3.28"
      ]
     },
     "metadata": {},
     "output_type": "display_data"
    },
    {
     "data": {
      "image/png": "[encoded data removed]",
      "text/plain": [
       "<Figure size 1080x360 with 1 Axes>"
      ]
     },
     "metadata": {},
     "output_type": "display_data"
    }
   ],
   "source": [
    "costs_visits_sum = costs_visits_by_source.groupby('source_id').agg({'n_buyers': 'sum', 'costs': 'sum'}).reset_index()\n",
    "costs_visits_sum['cac'] = (costs_visits_sum['costs'] / costs_visits_sum['n_buyers']).round(2)\n",
    "display(costs_visits_sum)\n",
    "\n",
    "plt.figure(figsize=(15, 5))\n",
    "plt.title('CAC Total', fontsize=20)\n",
    "sns.barplot(x='source_id', y='cac', data=costs_visits_sum, color=\"#5edfff\", label=\"line\")\n",
    "sns.despine(left=True)\n",
    "plt.xlabel('')\n",
    "plt.ylabel('source', fontsize=14)\n",
    "\n",
    "plt.show()"
   ]
  },
  {
   "cell_type": "markdown",
   "metadata": {},
   "source": [
    "Видно, что дороже всего по стоимости привлечения покупателей обходится третий канал. Наиболее выгодным по этому показателю можно считать четвертый канал, от него пришло большее количество покупателей, а затраты на маркетинг были в два раза меньше. Также стоит отметить первый канал, у него низкая стоимость привлечения покупателей, при сравнительно небольших затратах."
   ]
  },
  {
   "cell_type": "markdown",
   "metadata": {},
   "source": [
    "## Как окупаются расходы"
   ]
  },
  {
   "cell_type": "markdown",
   "metadata": {},
   "source": [
    "Чтобы посмотреть как окупаются расходы на маркетинг посчитаем накопительную метрику - `ROI`. Для этого объединим report с затратами на маркетинг по месяцам, добавим столбец со стоимостью привлечения клиента"
   ]
  },
  {
   "cell_type": "code",
   "execution_count": 554,
   "metadata": {
    "scrolled": true
   },
   "outputs": [
    {
     "data": {
      "text/html": [
       "<div>\n",
       "<style scoped>\n",
       "    .dataframe tbody tr th:only-of-type {\n",
       "        vertical-align: middle;\n",
       "    }\n",
       "\n",
       "    .dataframe tbody tr th {\n",
       "        vertical-align: top;\n",
       "    }\n",
       "\n",
       "    .dataframe thead th {\n",
       "        text-align: right;\n",
       "    }\n",
       "</style>\n",
       "<table border=\"1\" class=\"dataframe\">\n",
       "  <thead>\n",
       "    <tr style=\"text-align: right;\">\n",
       "      <th></th>\n",
       "      <th>first_order_month</th>\n",
       "      <th>n_buyers</th>\n",
       "      <th>order_month</th>\n",
       "      <th>revenue</th>\n",
       "      <th>gp</th>\n",
       "      <th>age</th>\n",
       "      <th>ltv</th>\n",
       "      <th>month</th>\n",
       "      <th>costs</th>\n",
       "      <th>month_x</th>\n",
       "      <th>cac</th>\n",
       "    </tr>\n",
       "  </thead>\n",
       "  <tbody>\n",
       "    <tr>\n",
       "      <td>0</td>\n",
       "      <td>2017-06-01</td>\n",
       "      <td>2023</td>\n",
       "      <td>2017-06-01</td>\n",
       "      <td>9557.49</td>\n",
       "      <td>4778.745</td>\n",
       "      <td>0</td>\n",
       "      <td>2.362207</td>\n",
       "      <td>2017-06-01</td>\n",
       "      <td>18015.0</td>\n",
       "      <td>2017-06-01</td>\n",
       "      <td>8.905091</td>\n",
       "    </tr>\n",
       "    <tr>\n",
       "      <td>1</td>\n",
       "      <td>2017-06-01</td>\n",
       "      <td>2023</td>\n",
       "      <td>2017-07-01</td>\n",
       "      <td>981.82</td>\n",
       "      <td>490.910</td>\n",
       "      <td>1</td>\n",
       "      <td>0.242664</td>\n",
       "      <td>2017-06-01</td>\n",
       "      <td>18015.0</td>\n",
       "      <td>2017-06-01</td>\n",
       "      <td>8.905091</td>\n",
       "    </tr>\n",
       "    <tr>\n",
       "      <td>2</td>\n",
       "      <td>2017-06-01</td>\n",
       "      <td>2023</td>\n",
       "      <td>2017-08-01</td>\n",
       "      <td>885.34</td>\n",
       "      <td>442.670</td>\n",
       "      <td>2</td>\n",
       "      <td>0.218819</td>\n",
       "      <td>2017-06-01</td>\n",
       "      <td>18015.0</td>\n",
       "      <td>2017-06-01</td>\n",
       "      <td>8.905091</td>\n",
       "    </tr>\n",
       "    <tr>\n",
       "      <td>3</td>\n",
       "      <td>2017-06-01</td>\n",
       "      <td>2023</td>\n",
       "      <td>2017-09-01</td>\n",
       "      <td>1931.30</td>\n",
       "      <td>965.650</td>\n",
       "      <td>3</td>\n",
       "      <td>0.477336</td>\n",
       "      <td>2017-06-01</td>\n",
       "      <td>18015.0</td>\n",
       "      <td>2017-06-01</td>\n",
       "      <td>8.905091</td>\n",
       "    </tr>\n",
       "    <tr>\n",
       "      <td>4</td>\n",
       "      <td>2017-06-01</td>\n",
       "      <td>2023</td>\n",
       "      <td>2017-10-01</td>\n",
       "      <td>2068.58</td>\n",
       "      <td>1034.290</td>\n",
       "      <td>4</td>\n",
       "      <td>0.511265</td>\n",
       "      <td>2017-06-01</td>\n",
       "      <td>18015.0</td>\n",
       "      <td>2017-06-01</td>\n",
       "      <td>8.905091</td>\n",
       "    </tr>\n",
       "  </tbody>\n",
       "</table>\n",
       "</div>"
      ],
      "text/plain": [
       "  first_order_month  n_buyers order_month  revenue        gp  age       ltv  \\\n",
       "0        2017-06-01      2023  2017-06-01  9557.49  4778.745    0  2.362207   \n",
       "1        2017-06-01      2023  2017-07-01   981.82   490.910    1  0.242664   \n",
       "2        2017-06-01      2023  2017-08-01   885.34   442.670    2  0.218819   \n",
       "3        2017-06-01      2023  2017-09-01  1931.30   965.650    3  0.477336   \n",
       "4        2017-06-01      2023  2017-10-01  2068.58  1034.290    4  0.511265   \n",
       "\n",
       "       month    costs     month_x       cac  \n",
       "0 2017-06-01  18015.0  2017-06-01  8.905091  \n",
       "1 2017-06-01  18015.0  2017-06-01  8.905091  \n",
       "2 2017-06-01  18015.0  2017-06-01  8.905091  \n",
       "3 2017-06-01  18015.0  2017-06-01  8.905091  \n",
       "4 2017-06-01  18015.0  2017-06-01  8.905091  "
      ]
     },
     "execution_count": 554,
     "metadata": {},
     "output_type": "execute_result"
    }
   ],
   "source": [
    "report_new = pd.merge(report, monthly_costs, left_on='first_order_month', right_on='month')\n",
    "report_new['cac'] = report_new['costs'] / report_new['n_buyers']\n",
    "report_new.head()"
   ]
  },
  {
   "cell_type": "code",
   "execution_count": 555,
   "metadata": {},
   "outputs": [
    {
     "data": {
      "image/png": "[encoded data removed]",
      "text/plain": [
       "<Figure size 1080x648 with 2 Axes>"
      ]
     },
     "metadata": {},
     "output_type": "display_data"
    }
   ],
   "source": [
    "report_new['romi'] = report_new['ltv'] / report_new['cac']\n",
    "\n",
    "output = report_new.pivot_table(\n",
    "        index='first_order_month', \n",
    "        columns='age', \n",
    "        values='romi', \n",
    "        aggfunc='mean')\n",
    "\n",
    "output.cumsum(axis=1).round(2).fillna('')\n",
    "\n",
    "sns.set(style='white')\n",
    "plt.figure(figsize=(15, 9))\n",
    "plt.title('Cohorts: ROI', fontsize=20)\n",
    "sns.heatmap(output, cmap=\"YlGnBu\", annot=True, fmt='.1%', vmax= 0.1, linecolor='gray', yticklabels=output.index.strftime('%Y-%m'),)\n",
    "plt.xlabel('age', fontsize=14)\n",
    "plt.ylabel('first order month', fontsize=14)\n",
    "\n",
    "plt.show()"
   ]
  },
  {
   "cell_type": "markdown",
   "metadata": {},
   "source": [
    "Судя по таблице, ни в одной когорте расходы еще не окупились, но быстрее всего окупается июньская, сентябрьская и декабрьская когорты. Резкий скачок в сентябрьской когорте произошел между третьим и четвертым месяцем жизни. "
   ]
  },
  {
   "cell_type": "code",
   "execution_count": 556,
   "metadata": {},
   "outputs": [
    {
     "name": "stdout",
     "output_type": "stream",
     "text": [
      "Текущий суммарный ROMI: -23.0 %\n"
     ]
    }
   ],
   "source": [
    "roi_total = ((report_new['revenue'].sum()) - costs_total)*100 / costs_total\n",
    "print('Текущий суммарный ROMI:', roi_total.round(), '%')"
   ]
  },
  {
   "cell_type": "markdown",
   "metadata": {},
   "source": [
    "Теперь посчитаем `ROI` по источникам:"
   ]
  },
  {
   "cell_type": "code",
   "execution_count": 557,
   "metadata": {},
   "outputs": [
    {
     "data": {
      "text/html": [
       "<div>\n",
       "<style scoped>\n",
       "    .dataframe tbody tr th:only-of-type {\n",
       "        vertical-align: middle;\n",
       "    }\n",
       "\n",
       "    .dataframe tbody tr th {\n",
       "        vertical-align: top;\n",
       "    }\n",
       "\n",
       "    .dataframe thead th {\n",
       "        text-align: right;\n",
       "    }\n",
       "</style>\n",
       "<table border=\"1\" class=\"dataframe\">\n",
       "  <thead>\n",
       "    <tr style=\"text-align: right;\">\n",
       "      <th></th>\n",
       "      <th>source_id</th>\n",
       "      <th>revenue</th>\n",
       "      <th>costs</th>\n",
       "      <th>roi</th>\n",
       "    </tr>\n",
       "  </thead>\n",
       "  <tbody>\n",
       "    <tr>\n",
       "      <td>0</td>\n",
       "      <td>1</td>\n",
       "      <td>101631.38</td>\n",
       "      <td>20833.27</td>\n",
       "      <td>387.83</td>\n",
       "    </tr>\n",
       "    <tr>\n",
       "      <td>1</td>\n",
       "      <td>2</td>\n",
       "      <td>43123.74</td>\n",
       "      <td>42806.04</td>\n",
       "      <td>0.74</td>\n",
       "    </tr>\n",
       "    <tr>\n",
       "      <td>2</td>\n",
       "      <td>3</td>\n",
       "      <td>43354.82</td>\n",
       "      <td>141321.63</td>\n",
       "      <td>-69.32</td>\n",
       "    </tr>\n",
       "    <tr>\n",
       "      <td>3</td>\n",
       "      <td>4</td>\n",
       "      <td>36705.84</td>\n",
       "      <td>61073.60</td>\n",
       "      <td>-39.90</td>\n",
       "    </tr>\n",
       "    <tr>\n",
       "      <td>4</td>\n",
       "      <td>5</td>\n",
       "      <td>22919.80</td>\n",
       "      <td>51757.10</td>\n",
       "      <td>-55.72</td>\n",
       "    </tr>\n",
       "    <tr>\n",
       "      <td>5</td>\n",
       "      <td>9</td>\n",
       "      <td>1874.18</td>\n",
       "      <td>5517.49</td>\n",
       "      <td>-66.03</td>\n",
       "    </tr>\n",
       "    <tr>\n",
       "      <td>6</td>\n",
       "      <td>10</td>\n",
       "      <td>2446.22</td>\n",
       "      <td>5822.49</td>\n",
       "      <td>-57.99</td>\n",
       "    </tr>\n",
       "  </tbody>\n",
       "</table>\n",
       "</div>"
      ],
      "text/plain": [
       "   source_id    revenue      costs     roi\n",
       "0          1  101631.38   20833.27  387.83\n",
       "1          2   43123.74   42806.04    0.74\n",
       "2          3   43354.82  141321.63  -69.32\n",
       "3          4   36705.84   61073.60  -39.90\n",
       "4          5   22919.80   51757.10  -55.72\n",
       "5          9    1874.18    5517.49  -66.03\n",
       "6         10    2446.22    5822.49  -57.99"
      ]
     },
     "metadata": {},
     "output_type": "display_data"
    },
    {
     "name": "stdout",
     "output_type": "stream",
     "text": [
      "Revenue total: 252055.98\n",
      "Costs total: 329131.62\n"
     ]
    }
   ],
   "source": [
    "#Объединим таблицы, чтобы получить 'source_id', 'revenue', 'costs' в одной, необходимые для рассчета ROI\n",
    "\n",
    "orders_roi = orders[['revenue', 'uid']]\n",
    "visits_roi = visits[['source_id', 'uid', 'first_ts_datetime']]\n",
    "\n",
    "# Одному и тому же uid могут соответствовать несколько рекламных источников \n",
    "# Выявим из какого источника был совершен перавй заход, удалим дублирующие значения\n",
    "\n",
    "visits_roi = visits_roi.groupby(['uid', 'source_id'], as_index=False)['first_ts_datetime'].min()\n",
    "visits_roi = visits_roi.drop_duplicates(subset=['uid','first_ts_datetime'])\n",
    "\n",
    "#print(visits_roi.query('uid == \"3993697860786194247\"'))\n",
    "\n",
    "roi_table = pd.merge(orders_roi, visits_roi, on='uid')\n",
    "#roi_table\n",
    "\n",
    "revenue_by_source = roi_table.groupby('source_id', as_index=False).agg({'revenue': 'sum'})\n",
    "#revenue_by_source\n",
    "\n",
    "costs_roi = costs.groupby('source_id', as_index=False)['costs'].sum()\n",
    "#costs_roi\n",
    "\n",
    "roi_total = revenue_by_source.merge(costs_roi, on='source_id')\n",
    "roi_total['roi'] = ((roi_total['revenue'] - roi_total['costs'])*100/ roi_total['costs']).round(2)\n",
    "\n",
    "display(roi_total)\n",
    "print('Revenue total:', (roi_total['revenue'].sum()).round(2))\n",
    "print('Costs total:', (roi_total['costs'].sum()).round(2))"
   ]
  },
  {
   "cell_type": "markdown",
   "metadata": {},
   "source": [
    "`ROI` по каналам показывает, что лучше всех окупился первый канал, показатель `ROI` которого почти 400%, также на окупаемость вышел канал `№2`."
   ]
  },
  {
   "cell_type": "markdown",
   "metadata": {},
   "source": [
    "# Вывод:\n"
   ]
  },
  {
   "cell_type": "markdown",
   "metadata": {},
   "source": [
    "На основании проведенного анализа, отделу маркетинга можно дать следующие рекомендации:\n",
    "\n",
    "- перераспределить бюджет по источникам. Сейчас практически половина бюждета выделена на канал, который приносит самых дорогих клиентов и имеет самый низкий `ROI` по сравнению с остальными каналами. На основании стоимости привлечения покупателя можно выделить источник **`№4`** как наиболее перспективный. Он показывает хорошие показатели при сравнительно высоком бюджете, то есть он уже достаточно масштабирован, чтобы делать выводы. Этот источник приводит больше покупателей, чем `№3` (на который уходит большая часть бюджета) и при этом расходы на канал `№4` в два раза меньше, чем на `№3`. \n",
    "\n",
    "- по показателю `ROI` абсолбтно точно стоит увеличить бюджет на канал `№1`, а также масштабировать канал `№2`, но принимать во внимание высокую стоимость привлечения клиентов.\n",
    "\n",
    "Для детальных рекомендаций надо провести более глубокий маркетинговый анализ источников/платформ.  "
   ]
  },
  {
   "cell_type": "code",
   "execution_count": null,
   "metadata": {},
   "outputs": [],
   "source": []
  }
 ],
 "metadata": {
  "kernelspec": {
   "display_name": "Python 3",
   "language": "python",
   "name": "python3"
  },
  "language_info": {
   "codemirror_mode": {
    "name": "ipython",
    "version": 3
   },
   "file_extension": ".py",
   "mimetype": "text/x-python",
   "name": "python",
   "nbconvert_exporter": "python",
   "pygments_lexer": "ipython3",
   "version": "3.7.4"
  }
 },
 "nbformat": 4,
 "nbformat_minor": 2
}
